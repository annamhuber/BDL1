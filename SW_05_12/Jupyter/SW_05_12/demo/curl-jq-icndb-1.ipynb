{
 "cells": [
  {
   "cell_type": "markdown",
   "metadata": {},
   "source": [
    "# Header"
   ]
  },
  {
   "cell_type": "code",
   "execution_count": 1,
   "metadata": {},
   "outputs": [],
   "source": [
    "# 2021-03, Bruno Grossniklaus, https://github.com/it-gro\n",
    "# ~~~~~~~~~~~~~~~~~~~~~~~~~~~~~~~~~~~~~~~~~~~~~~~~~~~~~~~~~~~~~~~~~~~~~~~~~~~~~~\n",
    "\n",
    "import pandas as pd\n",
    "import pymongo"
   ]
  },
  {
   "cell_type": "markdown",
   "metadata": {},
   "source": [
    "# Configuration"
   ]
  },
  {
   "cell_type": "code",
   "execution_count": 2,
   "metadata": {},
   "outputs": [],
   "source": [
    "pd.set_option('precision', 2)\n",
    "pd.set_option('max_rows', 30)\n",
    "pd.set_option('max_colwidth', 100)\n",
    "# pd.describe_option('max_rows')\n",
    "# pd.describe_option('precision')\n",
    "# pd.describe_option('max_colwidth')\n",
    "\n",
    "HOST_mongo = 'localhost'\n",
    "OPTIONS_mongo = ''\n",
    "# OPTIONS_mongo = '?retryWrites=true&w=majority'\n",
    "USER_mongo = \"\"\n",
    "PASS_mongo = \"\"\n",
    "if USER_mongo:\n",
    "    credentials=f\"{USER_mongo}:{PASS_mongo}@\"\n",
    "else:\n",
    "    credentials=\"\"\n",
    "\n",
    "DB_CONNECT=f\"mongodb://{credentials}{HOST_mongo}{OPTIONS_mongo}\"\n",
    "        \n",
    "DB_ICNDB=\"imp_demo_icndb\"\n",
    "URL_API=\"http://api.icndb.com/jokes/random\"\n",
    "NUMEBR_OF_JOKES=100\n",
    "COLL_SRC=\"src_jokes\"\n",
    "COLL_JOKES=\"jokes\""
   ]
  },
  {
   "cell_type": "markdown",
   "metadata": {},
   "source": [
    "# Import"
   ]
  },
  {
   "cell_type": "markdown",
   "metadata": {},
   "source": [
    "## V1"
   ]
  },
  {
   "cell_type": "code",
   "execution_count": 3,
   "metadata": {},
   "outputs": [
    {
     "name": "stdout",
     "output_type": "stream",
     "text": [
      "true\n",
      "{ \"ok\" : 1 }\n"
     ]
    },
    {
     "name": "stderr",
     "output_type": "stream",
     "text": [
      "2021-03-20T17:48:10.522+0100\tconnected to: mongodb://localhost/\n",
      "2021-03-20T17:48:10.523+0100\tdropping: imp_demo_icndb.src_jokes\n",
      "2021-03-20T17:48:10.816+0100\t100 document(s) imported successfully. 0 document(s) failed to import.\n"
     ]
    }
   ],
   "source": [
    "%%bash \n",
    "\n",
    "curl -sL http://api.icndb.com/jokes/random/100 | jq '.value' |\n",
    "  mongoimport --db imp_demo_icndb --jsonArray --drop --collection src_jokes\n",
    "\n",
    "cat <<EOF | mongo --quiet mongodb://localhost/imp_demo_icndb\n",
    "  db[\"jokes\"].drop()\n",
    "  db[\"src_jokes\"].renameCollection(\"jokes\")\n",
    "EOF"
   ]
  },
  {
   "cell_type": "markdown",
   "metadata": {},
   "source": [
    "##  V2"
   ]
  },
  {
   "cell_type": "code",
   "execution_count": 4,
   "metadata": {},
   "outputs": [
    {
     "name": "stdout",
     "output_type": "stream",
     "text": [
      "true\n",
      "{ \"ok\" : 1 }\n"
     ]
    },
    {
     "name": "stderr",
     "output_type": "stream",
     "text": [
      "2021-03-20T17:48:11.175+0100\tconnected to: mongodb://localhost/\n",
      "2021-03-20T17:48:11.175+0100\tdropping: imp_demo_icndb.src_jokes\n",
      "2021-03-20T17:48:11.337+0100\t100 document(s) imported successfully. 0 document(s) failed to import.\n"
     ]
    }
   ],
   "source": [
    "%%bash -s \"{URL_API}\" \"{NUMEBR_OF_JOKES}\" \"{DB_CONNECT}\" \"{DB_ICNDB}\" \"{COLL_SRC}\" \"{COLL_JOKES}\" \n",
    "request=$1/$2\n",
    "connect=$3\n",
    "db=$4\n",
    "src_collection=$5\n",
    "collection=$6\n",
    "\n",
    "curl -sL ${request} | jq '.value' |\n",
    "  mongoimport --db ${db} --jsonArray --drop --collection ${src_collection}\n",
    "\n",
    "cat <<EOF | mongo --quiet ${connect}/${db}\n",
    "  db[\"${collection}\"].drop()\n",
    "  db[\"${src_collection}\"].renameCollection(\"${collection}\")\n",
    "EOF"
   ]
  },
  {
   "cell_type": "markdown",
   "metadata": {},
   "source": [
    "## V3"
   ]
  },
  {
   "cell_type": "code",
   "execution_count": 5,
   "metadata": {},
   "outputs": [
    {
     "name": "stderr",
     "output_type": "stream",
     "text": [
      "2021-03-20T17:48:11.494+0100\tconnected to: mongodb://localhost/\n",
      "2021-03-20T17:48:11.496+0100\tdropping: imp_demo_icndb.src_jokes\n",
      "2021-03-20T17:48:11.645+0100\t100 document(s) imported successfully. 0 document(s) failed to import.\n"
     ]
    }
   ],
   "source": [
    "%%bash -s \"{URL_API}\" \"{NUMEBR_OF_JOKES}\" \"{DB_CONNECT}\" \"{DB_ICNDB}\" \"{COLL_SRC}\"\n",
    "request=$1/$2\n",
    "connect=$3\n",
    "db=$4\n",
    "src_collection=$5\n",
    "\n",
    "curl -sL ${request} | jq '.value' |\n",
    "  mongoimport --db ${db} --jsonArray --drop --collection ${src_collection}\n",
    "\n",
    "cat <<'EOF' | mongo --quiet ${connect}/${db}\n",
    "  db[\"src_jokes\"].aggregate([\n",
    "    {'$match': {\"categories\": {'$nin' : [\"explicit\"]}}},\n",
    "    {'$project': {\"_id\": '$id', \"joke\": 1, \"categories\": 1}},\n",
    "    {'$out': \"jokes\"}\n",
    "  ])\n",
    "  // db[\"src_jokes\"].drop()\n",
    "EOF\n"
   ]
  },
  {
   "cell_type": "markdown",
   "metadata": {},
   "source": [
    "# Connect"
   ]
  },
  {
   "cell_type": "code",
   "execution_count": 6,
   "metadata": {},
   "outputs": [],
   "source": [
    "client = pymongo.MongoClient(f\"mongodb://{credentials}{HOST_mongo}{OPTIONS_mongo}\")\n",
    "icndb = client[DB_ICNDB]"
   ]
  },
  {
   "cell_type": "markdown",
   "metadata": {},
   "source": [
    "# Show Documents"
   ]
  },
  {
   "cell_type": "code",
   "execution_count": 7,
   "metadata": {},
   "outputs": [
    {
     "data": {
      "text/html": [
       "<div>\n",
       "<style scoped>\n",
       "    .dataframe tbody tr th:only-of-type {\n",
       "        vertical-align: middle;\n",
       "    }\n",
       "\n",
       "    .dataframe tbody tr th {\n",
       "        vertical-align: top;\n",
       "    }\n",
       "\n",
       "    .dataframe thead th {\n",
       "        text-align: right;\n",
       "    }\n",
       "</style>\n",
       "<table border=\"1\" class=\"dataframe\">\n",
       "  <thead>\n",
       "    <tr style=\"text-align: right;\">\n",
       "      <th></th>\n",
       "      <th>_id</th>\n",
       "      <th>joke</th>\n",
       "      <th>categories</th>\n",
       "    </tr>\n",
       "  </thead>\n",
       "  <tbody>\n",
       "    <tr>\n",
       "      <th>8</th>\n",
       "      <td>323</td>\n",
       "      <td>Chuck Norris can be unlocked on the hardest level of Tekken. But only Chuck Norris is skilled en...</td>\n",
       "      <td>[]</td>\n",
       "    </tr>\n",
       "    <tr>\n",
       "      <th>7</th>\n",
       "      <td>236</td>\n",
       "      <td>Sticks and stones may break your bones, but a Chuck Norris glare will liquefy your kidneys.</td>\n",
       "      <td>[]</td>\n",
       "    </tr>\n",
       "    <tr>\n",
       "      <th>5</th>\n",
       "      <td>316</td>\n",
       "      <td>In the medical community, death is referred to as &amp;quot;Chuck Norris Disease&amp;quot;</td>\n",
       "      <td>[]</td>\n",
       "    </tr>\n",
       "    <tr>\n",
       "      <th>1</th>\n",
       "      <td>121</td>\n",
       "      <td>It takes 14 puppeteers to make Chuck Norris smile, but only 2 to make him destroy an orphanage.</td>\n",
       "      <td>[]</td>\n",
       "    </tr>\n",
       "    <tr>\n",
       "      <th>9</th>\n",
       "      <td>333</td>\n",
       "      <td>Chuck Norris was banned from competitive bullriding after a 1992 exhibition in San Antonio, when...</td>\n",
       "      <td>[]</td>\n",
       "    </tr>\n",
       "    <tr>\n",
       "      <th>4</th>\n",
       "      <td>57</td>\n",
       "      <td>Chuck Norris is ten feet tall, weighs two-tons, breathes fire, and could eat a hammer and take a...</td>\n",
       "      <td>[]</td>\n",
       "    </tr>\n",
       "    <tr>\n",
       "      <th>6</th>\n",
       "      <td>149</td>\n",
       "      <td>Chuck Norris proved that we are alone in the universe. We weren't before his first space expedit...</td>\n",
       "      <td>[]</td>\n",
       "    </tr>\n",
       "    <tr>\n",
       "      <th>2</th>\n",
       "      <td>235</td>\n",
       "      <td>Chuck Norris once kicked a horse in the chin. Its descendants are known today as Giraffes.</td>\n",
       "      <td>[]</td>\n",
       "    </tr>\n",
       "    <tr>\n",
       "      <th>0</th>\n",
       "      <td>535</td>\n",
       "      <td>Chuck Norris uses canvas in IE.</td>\n",
       "      <td>[nerdy]</td>\n",
       "    </tr>\n",
       "    <tr>\n",
       "      <th>3</th>\n",
       "      <td>140</td>\n",
       "      <td>Chuck Norris built a better mousetrap, but the world was too frightened to beat a path to his door.</td>\n",
       "      <td>[]</td>\n",
       "    </tr>\n",
       "  </tbody>\n",
       "</table>\n",
       "</div>"
      ],
      "text/plain": [
       "   _id  \\\n",
       "8  323   \n",
       "7  236   \n",
       "5  316   \n",
       "1  121   \n",
       "9  333   \n",
       "4   57   \n",
       "6  149   \n",
       "2  235   \n",
       "0  535   \n",
       "3  140   \n",
       "\n",
       "                                                                                                  joke  \\\n",
       "8  Chuck Norris can be unlocked on the hardest level of Tekken. But only Chuck Norris is skilled en...   \n",
       "7          Sticks and stones may break your bones, but a Chuck Norris glare will liquefy your kidneys.   \n",
       "5                   In the medical community, death is referred to as &quot;Chuck Norris Disease&quot;   \n",
       "1      It takes 14 puppeteers to make Chuck Norris smile, but only 2 to make him destroy an orphanage.   \n",
       "9  Chuck Norris was banned from competitive bullriding after a 1992 exhibition in San Antonio, when...   \n",
       "4  Chuck Norris is ten feet tall, weighs two-tons, breathes fire, and could eat a hammer and take a...   \n",
       "6  Chuck Norris proved that we are alone in the universe. We weren't before his first space expedit...   \n",
       "2           Chuck Norris once kicked a horse in the chin. Its descendants are known today as Giraffes.   \n",
       "0                                                                      Chuck Norris uses canvas in IE.   \n",
       "3  Chuck Norris built a better mousetrap, but the world was too frightened to beat a path to his door.   \n",
       "\n",
       "  categories  \n",
       "8         []  \n",
       "7         []  \n",
       "5         []  \n",
       "1         []  \n",
       "9         []  \n",
       "4         []  \n",
       "6         []  \n",
       "2         []  \n",
       "0    [nerdy]  \n",
       "3         []  "
      ]
     },
     "execution_count": 7,
     "metadata": {},
     "output_type": "execute_result"
    }
   ],
   "source": [
    "c = icndb[COLL_JOKES].aggregate([\n",
    "      {\"$limit\": 10},\n",
    "])\n",
    "\n",
    "pd.DataFrame(c).sample(10)"
   ]
  },
  {
   "cell_type": "code",
   "execution_count": null,
   "metadata": {},
   "outputs": [],
   "source": []
  }
 ],
 "metadata": {
  "kernelspec": {
   "display_name": "Python 3",
   "language": "python",
   "name": "python3"
  },
  "language_info": {
   "codemirror_mode": {
    "name": "ipython",
    "version": 3
   },
   "file_extension": ".py",
   "mimetype": "text/x-python",
   "name": "python",
   "nbconvert_exporter": "python",
   "pygments_lexer": "ipython3",
   "version": "3.8.5"
  }
 },
 "nbformat": 4,
 "nbformat_minor": 4
}
