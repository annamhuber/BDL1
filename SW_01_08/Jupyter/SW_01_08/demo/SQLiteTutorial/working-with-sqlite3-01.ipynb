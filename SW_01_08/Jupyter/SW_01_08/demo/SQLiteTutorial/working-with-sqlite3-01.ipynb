{
 "cells": [
  {
   "cell_type": "markdown",
   "metadata": {},
   "source": [
    "## SQL - SQLite3"
   ]
  },
  {
   "cell_type": "markdown",
   "metadata": {},
   "source": [
    "### Packages"
   ]
  },
  {
   "cell_type": "code",
   "execution_count": 1,
   "metadata": {},
   "outputs": [
    {
     "name": "stdout",
     "output_type": "stream",
     "text": [
      "/home/grossnik/venv/bdl03-1-jpy-3.8\n"
     ]
    }
   ],
   "source": [
    "%%bash\n",
    "echo $VIRTUAL_ENV\n",
    "# PySQLite is a part of the Python Standard library"
   ]
  },
  {
   "cell_type": "code",
   "execution_count": 2,
   "metadata": {},
   "outputs": [],
   "source": [
    "!pip3 list | grep sqlite3"
   ]
  },
  {
   "cell_type": "code",
   "execution_count": 3,
   "metadata": {},
   "outputs": [],
   "source": [
    "import sqlite3\n",
    "import pathlib\n",
    "import os"
   ]
  },
  {
   "cell_type": "markdown",
   "metadata": {},
   "source": [
    "### Configuration"
   ]
  },
  {
   "cell_type": "code",
   "execution_count": 4,
   "metadata": {},
   "outputs": [
    {
     "data": {
      "text/plain": [
       "'/home/grossnik/bdl03-1/sqlite/pythonsqlite.db'"
      ]
     },
     "execution_count": 4,
     "metadata": {},
     "output_type": "execute_result"
    }
   ],
   "source": [
    "p = pathlib.Path.home().joinpath('bdl03-1/sqlite')\n",
    "p.mkdir(parents=True, exist_ok=True)\n",
    "base_dir = str(p)\n",
    "db_file = f\"{base_dir}/pythonsqlite.db\"\n",
    "db_file"
   ]
  },
  {
   "cell_type": "code",
   "execution_count": 5,
   "metadata": {},
   "outputs": [
    {
     "name": "stdout",
     "output_type": "stream",
     "text": [
      "total 8\r\n",
      "drwxrwxr-x 2 grossnik grossnik 4096 Feb 15 18:44 .\r\n",
      "drwxrwxr-x 3 grossnik grossnik 4096 Feb 15 18:06 ..\r\n"
     ]
    }
   ],
   "source": [
    "# delete the file\n",
    "if os.path.exists(db_file):\n",
    "  os.remove(db_file) \n",
    "\n",
    "! ls -la \"${HOME}/bdl03-1/sqlite\""
   ]
  },
  {
   "cell_type": "markdown",
   "metadata": {},
   "source": [
    "### Create Database and Tables"
   ]
  },
  {
   "cell_type": "code",
   "execution_count": 6,
   "metadata": {},
   "outputs": [],
   "source": [
    "def create_connection(db_file):\n",
    "    \"\"\" create a database connection to the SQLite database\n",
    "        specified by db_file\n",
    "    :param db_file: database file\n",
    "    :return: Connection object or None\n",
    "    \"\"\"\n",
    "    conn = None\n",
    "    try:\n",
    "        conn = sqlite3.connect(db_file)\n",
    "        return conn\n",
    "    except sqlite3.Error as e:\n",
    "        print(e)\n",
    "\n",
    "    return conn\n"
   ]
  },
  {
   "cell_type": "code",
   "execution_count": 7,
   "metadata": {},
   "outputs": [],
   "source": [
    "def create_table(conn, create_table_sql):\n",
    "    \"\"\" create a table from the create_table_sql statement\n",
    "    :param conn: Connection object\n",
    "    :param create_table_sql: a CREATE TABLE statement\n",
    "    :return:\n",
    "    \"\"\"\n",
    "    try:\n",
    "        c = conn.cursor()\n",
    "        c.execute(create_table_sql)\n",
    "    except sqlite3.Error as e:\n",
    "        print(e)\n"
   ]
  },
  {
   "cell_type": "code",
   "execution_count": 8,
   "metadata": {},
   "outputs": [],
   "source": [
    "def create_tables(database):\n",
    "    sql_create_projects_table = \"\"\"\n",
    "CREATE TABLE IF NOT EXISTS projects (\n",
    "id         INTEGER PRIMARY KEY,\n",
    "name       TEXT    NOT NULL   ,\n",
    "begin_date TEXT               ,\n",
    "end_date   TEXT\n",
    ");\n",
    "\"\"\"\n",
    "\n",
    "    sql_create_tasks_table = \"\"\"\n",
    "CREATE TABLE IF NOT EXISTS tasks (\n",
    "id          INTEGER PRIMARY KEY,\n",
    "name        TEXT    NOT NULL   ,\n",
    "priority    INTEGER            ,\n",
    "status_id   INTEGER NOT NULL   ,\n",
    "project_id  INTEGER NOT NULL   ,\n",
    "begin_date  TEXT    NOT NULL   ,\n",
    "end_date    TEXT    NOT NULL   ,\n",
    "FOREIGN KEY (project_id) REFERENCES projects (id)\n",
    ");\n",
    "\"\"\"\n",
    "\n",
    "    # create a database connection\n",
    "    conn = create_connection(database)\n",
    "\n",
    "    # create tables\n",
    "    if conn is not None:\n",
    "        # create projects table\n",
    "        create_table(conn, sql_create_projects_table)\n",
    "\n",
    "        # create tasks table\n",
    "        create_table(conn, sql_create_tasks_table)\n",
    "    else:\n",
    "        print(\"Error! cannot create the database connection.\")\n"
   ]
  },
  {
   "cell_type": "code",
   "execution_count": 9,
   "metadata": {},
   "outputs": [],
   "source": [
    "create_tables(db_file)"
   ]
  },
  {
   "cell_type": "code",
   "execution_count": 10,
   "metadata": {},
   "outputs": [
    {
     "name": "stdout",
     "output_type": "stream",
     "text": [
      "total 12\r\n",
      "-rw-r--r-- 1 grossnik grossnik 12288 Feb 15 18:44 pythonsqlite.db\r\n"
     ]
    }
   ],
   "source": [
    "! ls -l \"${HOME}/bdl03-1/sqlite\""
   ]
  },
  {
   "cell_type": "markdown",
   "metadata": {},
   "source": [
    "### Insert some date"
   ]
  },
  {
   "cell_type": "code",
   "execution_count": 11,
   "metadata": {},
   "outputs": [],
   "source": [
    "def create_project(conn, project):\n",
    "    \"\"\"\n",
    "    Create a new project into the projects table\n",
    "    :param conn:\n",
    "    :param project:\n",
    "    :return: project id\n",
    "    \"\"\"\n",
    "    sql = '''\n",
    "INSERT INTO projects(name,begin_date,end_date) VALUES(?,?,?)\n",
    "'''\n",
    "    cur = conn.cursor()\n",
    "    cur.execute(sql, project)\n",
    "    return cur.lastrowid\n"
   ]
  },
  {
   "cell_type": "code",
   "execution_count": 12,
   "metadata": {},
   "outputs": [],
   "source": [
    "def create_task(conn, task):\n",
    "    \"\"\"\n",
    "    Create a new task\n",
    "    :param conn:\n",
    "    :param task:\n",
    "    :return:\n",
    "    \"\"\"\n",
    "\n",
    "    sql = '''\n",
    "INSERT INTO tasks(name,priority,status_id,project_id,begin_date,end_date)\n",
    "  VALUES(?,?,?,?,?,?)\n",
    "'''\n",
    "    cur = conn.cursor()\n",
    "    cur.execute(sql, task)\n",
    "    return cur.lastrowid\n"
   ]
  },
  {
   "cell_type": "code",
   "execution_count": 13,
   "metadata": {},
   "outputs": [],
   "source": [
    "database = db_file\n",
    "\n",
    "# create a database connection\n",
    "conn = create_connection(database)\n",
    "with conn:\n",
    "    # create a new project\n",
    "    project = ('Cool App with SQLite & Python',\n",
    "               '2015-01-01',\n",
    "               '2015-01-30')\n",
    "    project_id = create_project(conn, project)\n",
    "\n",
    "    # tasks\n",
    "    task_1 = ('Analyze the requirements of the app',\n",
    "              1,\n",
    "              1,\n",
    "              project_id,\n",
    "              '2015-01-01',\n",
    "              '2015-01-02')\n",
    "\n",
    "    task_2 = ('Confirm with user about the top requirements',\n",
    "              1,\n",
    "              1,\n",
    "              project_id,\n",
    "              '2015-01-03',\n",
    "              '2015-01-05')\n",
    "\n",
    "    # create tasks\n",
    "    create_task(conn, task_1)\n",
    "    create_task(conn, task_2)\n"
   ]
  },
  {
   "cell_type": "markdown",
   "metadata": {},
   "source": [
    "### Select some data"
   ]
  },
  {
   "cell_type": "code",
   "execution_count": 14,
   "metadata": {},
   "outputs": [],
   "source": [
    "def select_all_tasks(conn):\n",
    "    \"\"\"\n",
    "    Query all rows in the tasks table\n",
    "    :param conn: the Connection object\n",
    "    :return:\n",
    "    \"\"\"\n",
    "    cur = conn.cursor()\n",
    "    cur.execute(\"SELECT * FROM tasks\")\n",
    "\n",
    "    rows = cur.fetchall()\n",
    "\n",
    "    for row in rows:\n",
    "        print(row)\n"
   ]
  },
  {
   "cell_type": "code",
   "execution_count": 15,
   "metadata": {},
   "outputs": [],
   "source": [
    "def select_task_by_priority(conn, priority):\n",
    "    \"\"\"\n",
    "    Query tasks by priority\n",
    "    :param conn: the Connection object\n",
    "    :param priority:\n",
    "    :return:\n",
    "    \"\"\"\n",
    "    cur = conn.cursor()\n",
    "    cur.execute(\"SELECT * FROM tasks WHERE priority=?\", (priority,))\n",
    "\n",
    "    rows = cur.fetchall()\n",
    "\n",
    "    for row in rows:\n",
    "        print(row)\n"
   ]
  },
  {
   "cell_type": "code",
   "execution_count": 16,
   "metadata": {},
   "outputs": [
    {
     "name": "stdout",
     "output_type": "stream",
     "text": [
      "1. Query task by priority:\n",
      "(1, 'Analyze the requirements of the app', 1, 1, 1, '2015-01-01', '2015-01-02')\n",
      "(2, 'Confirm with user about the top requirements', 1, 1, 1, '2015-01-03', '2015-01-05')\n",
      "2. Query all tasks\n",
      "(1, 'Analyze the requirements of the app', 1, 1, 1, '2015-01-01', '2015-01-02')\n",
      "(2, 'Confirm with user about the top requirements', 1, 1, 1, '2015-01-03', '2015-01-05')\n"
     ]
    }
   ],
   "source": [
    "# create a database connection\n",
    "conn = create_connection(db_file)\n",
    "with conn:\n",
    "    print(\"1. Query task by priority:\")\n",
    "    select_task_by_priority(conn, 1)\n",
    "\n",
    "    print(\"2. Query all tasks\")\n",
    "    select_all_tasks(conn)"
   ]
  },
  {
   "cell_type": "code",
   "execution_count": 17,
   "metadata": {},
   "outputs": [
    {
     "name": "stdout",
     "output_type": "stream",
     "text": [
      "total 12\r\n",
      "-rw-r--r-- 1 grossnik grossnik 12288 Feb 15 18:44 pythonsqlite.db\r\n"
     ]
    }
   ],
   "source": [
    "! ls -l \"${HOME}/bdl03-1/sqlite\""
   ]
  },
  {
   "cell_type": "code",
   "execution_count": null,
   "metadata": {},
   "outputs": [],
   "source": []
  }
 ],
 "metadata": {
  "kernelspec": {
   "display_name": "Python 3.8.5 64-bit ('bdl03-1-jpy-3.8')",
   "language": "python",
   "name": "python38564bitbdl031jpy380beaa70ef1c84fb48f9d1f13b94cc431"
  },
  "language_info": {
   "codemirror_mode": {
    "name": "ipython",
    "version": 3
   },
   "file_extension": ".py",
   "mimetype": "text/x-python",
   "name": "python",
   "nbconvert_exporter": "python",
   "pygments_lexer": "ipython3",
   "version": "3.8.5"
  }
 },
 "nbformat": 4,
 "nbformat_minor": 4
}
