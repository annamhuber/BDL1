{
 "cells": [
  {
   "cell_type": "markdown",
   "metadata": {},
   "source": [
    "# Sample mini Project ICNDB"
   ]
  },
  {
   "cell_type": "markdown",
   "metadata": {},
   "source": [
    "# Summary, Overview"
   ]
  },
  {
   "cell_type": "markdown",
   "metadata": {},
   "source": [
    "Lorem ipsum dolor sit amet, consetetur sadipscing elitr, sed diam nonumy eirmod tempor invidunt ut labore et dolore magna aliquyam erat, sed diam voluptua. At vero eos et accusam et justo duo dolores et ea rebum. Stet clita kasd gubergren, no sea takimata sanctus est Lorem ipsum dolor sit amet. Lorem ipsum dolor sit amet, consetetur sadipscing elitr, sed diam nonumy eirmod tempor invidunt ut labore et dolore magna aliquyam erat, sed diam voluptua. At vero eos et accusam et justo duo dolores et ea rebum. \n",
    "\n",
    "![componetns](images/100-mongodb-components-01.png)\n",
    "\n",
    "Duis autem vel eum iriure dolor in hendrerit in vulputate velit esse molestie consequat, vel illum dolore eu feugiat nulla facilisis at vero eros et accumsan et iusto odio dignissim qui blandit praesent luptatum zzril delenit augue duis dolore te feugait nulla facilisi. Lorem ipsum dolor sit amet, consectetuer adipiscing elit, sed diam nonummy nibh euismod tincidunt ut laoreet dolore magna aliquam erat volutpat. \n"
   ]
  },
  {
   "cell_type": "markdown",
   "metadata": {},
   "source": [
    "# Installation, Requirements"
   ]
  },
  {
   "cell_type": "code",
   "execution_count": 1,
   "metadata": {},
   "outputs": [
    {
     "name": "stdout",
     "output_type": "stream",
     "text": [
      "dnspython          2.1.0  \r\n",
      "pandas             1.1.3  \r\n",
      "pymongo            3.11.3 \r\n"
     ]
    }
   ],
   "source": [
    "! echo $VIRTUAL_ENV\n",
    "! pip3 list | grep -E 'pymongo|dnspython|pandas'\n",
    "# ! pip3 install --upgrade --upgrade-strategy only-if-needed pymongo dnspython pandas"
   ]
  },
  {
   "cell_type": "code",
   "execution_count": 2,
   "metadata": {},
   "outputs": [],
   "source": [
    "# 2021-03, Bruno Grossniklaus, https://github.com/it-gro\n",
    "# ~~~~~~~~~~~~~~~~~~~~~~~~~~~~~~~~~~~~~~~~~~~~~~~~~~~~~~~~~~~~~~~~~~~~~~~~~~~~~~\n",
    "\n",
    "import pandas as pd\n",
    "import pymongo\n",
    "from pprint import pprint"
   ]
  },
  {
   "cell_type": "markdown",
   "metadata": {},
   "source": [
    "# Configuration"
   ]
  },
  {
   "cell_type": "code",
   "execution_count": 3,
   "metadata": {},
   "outputs": [],
   "source": [
    "pd.set_option('precision', 2)\n",
    "pd.set_option('max_rows', 30)\n",
    "pd.set_option('max_colwidth', 50)\n",
    "# pd.describe_option('max_rows')\n",
    "# pd.describe_option('precision')\n",
    "# pd.describe_option('max_colwidth')\n",
    "\n",
    "HOST_mongo = 'localhost'\n",
    "OPTIONS_mongo = ''\n",
    "# OPTIONS_mongo = '?retryWrites=true&w=majority'\n",
    "USER_mongo = \"\"\n",
    "PASS_mongo = \"\"\n",
    "if USER_mongo:\n",
    "    credentials=f\"{USER_mongo}:{PASS_mongo}@\"\n",
    "else:\n",
    "    credentials=\"\"\n",
    "    \n",
    "DB_ICNDB=\"imp_demo_icndb\"\n",
    "URL_API=\"http://api.icndb.com/jokes/random\"\n",
    "NUMEBR_OF_JOKES=100\n",
    "COLL_SRC=\"src_jokes\"\n",
    "COLL_STG=\"stg_jokes\"\n",
    "COLL_JOKES=\"jokes\""
   ]
  },
  {
   "cell_type": "markdown",
   "metadata": {},
   "source": [
    "# Connection"
   ]
  },
  {
   "cell_type": "code",
   "execution_count": 4,
   "metadata": {},
   "outputs": [],
   "source": [
    "client = pymongo.MongoClient(f\"mongodb://{credentials}{HOST_mongo}{OPTIONS_mongo}\")\n",
    "icndb = client[DB_ICNDB]"
   ]
  },
  {
   "cell_type": "markdown",
   "metadata": {},
   "source": [
    "## Remove all existing documents"
   ]
  },
  {
   "cell_type": "code",
   "execution_count": 5,
   "metadata": {},
   "outputs": [
    {
     "data": {
      "text/html": [
       "<div>\n",
       "<style scoped>\n",
       "    .dataframe tbody tr th:only-of-type {\n",
       "        vertical-align: middle;\n",
       "    }\n",
       "\n",
       "    .dataframe tbody tr th {\n",
       "        vertical-align: top;\n",
       "    }\n",
       "\n",
       "    .dataframe thead th {\n",
       "        text-align: right;\n",
       "    }\n",
       "</style>\n",
       "<table border=\"1\" class=\"dataframe\">\n",
       "  <thead>\n",
       "    <tr style=\"text-align: right;\">\n",
       "      <th></th>\n",
       "      <th>name</th>\n",
       "      <th>type</th>\n",
       "      <th>options</th>\n",
       "      <th>info</th>\n",
       "      <th>idIndex</th>\n",
       "    </tr>\n",
       "  </thead>\n",
       "  <tbody>\n",
       "    <tr>\n",
       "      <th>0</th>\n",
       "      <td>jokes_2</td>\n",
       "      <td>collection</td>\n",
       "      <td>{}</td>\n",
       "      <td>{'readOnly': False, 'uuid': 500cb384-ea0c-4182...</td>\n",
       "      <td>{'v': 2, 'key': {'_id': 1}, 'name': '_id_', 'n...</td>\n",
       "    </tr>\n",
       "    <tr>\n",
       "      <th>1</th>\n",
       "      <td>jokes_1</td>\n",
       "      <td>collection</td>\n",
       "      <td>{}</td>\n",
       "      <td>{'readOnly': False, 'uuid': c939d900-2088-456c...</td>\n",
       "      <td>{'v': 2, 'key': {'_id': 1}, 'name': '_id_', 'n...</td>\n",
       "    </tr>\n",
       "  </tbody>\n",
       "</table>\n",
       "</div>"
      ],
      "text/plain": [
       "      name        type options  \\\n",
       "0  jokes_2  collection      {}   \n",
       "1  jokes_1  collection      {}   \n",
       "\n",
       "                                                info  \\\n",
       "0  {'readOnly': False, 'uuid': 500cb384-ea0c-4182...   \n",
       "1  {'readOnly': False, 'uuid': c939d900-2088-456c...   \n",
       "\n",
       "                                             idIndex  \n",
       "0  {'v': 2, 'key': {'_id': 1}, 'name': '_id_', 'n...  \n",
       "1  {'v': 2, 'key': {'_id': 1}, 'name': '_id_', 'n...  "
      ]
     },
     "execution_count": 5,
     "metadata": {},
     "output_type": "execute_result"
    }
   ],
   "source": [
    "icndb[COLL_SRC].drop()\n",
    "icndb[COLL_STG].drop()\n",
    "icndb[COLL_JOKES].drop()\n",
    "c = icndb.list_collections()\n",
    "pd.DataFrame(c)"
   ]
  },
  {
   "cell_type": "markdown",
   "metadata": {},
   "source": [
    "# ETL"
   ]
  },
  {
   "cell_type": "markdown",
   "metadata": {},
   "source": [
    "## Load into source area"
   ]
  },
  {
   "cell_type": "code",
   "execution_count": 6,
   "metadata": {},
   "outputs": [
    {
     "name": "stderr",
     "output_type": "stream",
     "text": [
      "2021-03-20T17:37:48.392+0100\tconnected to: mongodb://localhost/\n",
      "2021-03-20T17:37:48.393+0100\tdropping: imp_demo_icndb.src_jokes\n",
      "2021-03-20T17:37:48.895+0100\t1 document(s) imported successfully. 0 document(s) failed to import.\n"
     ]
    }
   ],
   "source": [
    "%%bash -s \"{URL_API}\" \"{NUMEBR_OF_JOKES}\" \"{DB_ICNDB}\" \"{COLL_SRC}\" \n",
    "request=$1/$2\n",
    "db=$3\n",
    "collection=$4\n",
    "\n",
    "curl -sL ${request} | \n",
    "  mongoimport --db ${db} --drop --collection ${collection}"
   ]
  },
  {
   "cell_type": "code",
   "execution_count": 7,
   "metadata": {},
   "outputs": [
    {
     "name": "stdout",
     "output_type": "stream",
     "text": [
      "(\"{'_id': ObjectId('605624dc363f3083a7352987'), 'type': 'success', 'value': \"\n",
      " \"[{'id': 449, 'joke': 'All arrays Chuck Norris declares are of infinite size, \"\n",
      " \"because Chuck Norris knows no bounds.', 'categories': ['nerdy']}, {'id': \"\n",
      " '538, \\'joke\\': \"Chuck Norris\\'s log statements are always at the FATAL '\n",
      " 'level.\", \\'categories\\': [\\'nerdy\\']}, {\\'id\\': 206, \\'joke\\': \\'Chuck '\n",
      " 'Norris destroyed the periodic table, because Chuck Norris only recognizes '\n",
      " \"the element of surprise.', 'categories': []}, {'id': 171, 'joke': 'Chuck\")\n"
     ]
    }
   ],
   "source": [
    "c = icndb[COLL_SRC].aggregate([\n",
    "      {\"$limit\": 1},\n",
    "])\n",
    "\n",
    "for doc in c:\n",
    "     pprint(f\"{doc}\"[:500])"
   ]
  },
  {
   "cell_type": "code",
   "execution_count": 8,
   "metadata": {},
   "outputs": [
    {
     "data": {
      "text/html": [
       "<div>\n",
       "<style scoped>\n",
       "    .dataframe tbody tr th:only-of-type {\n",
       "        vertical-align: middle;\n",
       "    }\n",
       "\n",
       "    .dataframe tbody tr th {\n",
       "        vertical-align: top;\n",
       "    }\n",
       "\n",
       "    .dataframe thead th {\n",
       "        text-align: right;\n",
       "    }\n",
       "</style>\n",
       "<table border=\"1\" class=\"dataframe\">\n",
       "  <thead>\n",
       "    <tr style=\"text-align: right;\">\n",
       "      <th></th>\n",
       "      <th>_id</th>\n",
       "      <th>type</th>\n",
       "      <th>value</th>\n",
       "    </tr>\n",
       "  </thead>\n",
       "  <tbody>\n",
       "    <tr>\n",
       "      <th>0</th>\n",
       "      <td>605624dc363f3083a7352987</td>\n",
       "      <td>success</td>\n",
       "      <td>[{'id': 449, 'joke': 'All arrays Chuck Norris ...</td>\n",
       "    </tr>\n",
       "  </tbody>\n",
       "</table>\n",
       "</div>"
      ],
      "text/plain": [
       "                        _id     type  \\\n",
       "0  605624dc363f3083a7352987  success   \n",
       "\n",
       "                                               value  \n",
       "0  [{'id': 449, 'joke': 'All arrays Chuck Norris ...  "
      ]
     },
     "execution_count": 8,
     "metadata": {},
     "output_type": "execute_result"
    }
   ],
   "source": [
    "c = icndb[COLL_SRC].aggregate([\n",
    "      {\"$limit\": 1},\n",
    "])\n",
    "\n",
    "pd.DataFrame(c)"
   ]
  },
  {
   "cell_type": "markdown",
   "metadata": {},
   "source": [
    "## Transport and Load"
   ]
  },
  {
   "cell_type": "markdown",
   "metadata": {},
   "source": [
    "### Stage: Reformat"
   ]
  },
  {
   "cell_type": "code",
   "execution_count": 9,
   "metadata": {},
   "outputs": [],
   "source": [
    "c = icndb[COLL_SRC].aggregate([\n",
    "      {\"$unwind\": \"$value\"},\n",
    "      {\"$replaceWith\": \"$value\" },\n",
    "      {\"$out\": COLL_STG}\n",
    "])\n",
    "\n",
    "# pd.DataFrame(c)"
   ]
  },
  {
   "cell_type": "code",
   "execution_count": 10,
   "metadata": {},
   "outputs": [
    {
     "data": {
      "text/html": [
       "<div>\n",
       "<style scoped>\n",
       "    .dataframe tbody tr th:only-of-type {\n",
       "        vertical-align: middle;\n",
       "    }\n",
       "\n",
       "    .dataframe tbody tr th {\n",
       "        vertical-align: top;\n",
       "    }\n",
       "\n",
       "    .dataframe thead th {\n",
       "        text-align: right;\n",
       "    }\n",
       "</style>\n",
       "<table border=\"1\" class=\"dataframe\">\n",
       "  <thead>\n",
       "    <tr style=\"text-align: right;\">\n",
       "      <th></th>\n",
       "      <th>_id</th>\n",
       "      <th>id</th>\n",
       "      <th>joke</th>\n",
       "      <th>categories</th>\n",
       "    </tr>\n",
       "  </thead>\n",
       "  <tbody>\n",
       "    <tr>\n",
       "      <th>0</th>\n",
       "      <td>605624dda37040a69f1514df</td>\n",
       "      <td>449</td>\n",
       "      <td>All arrays Chuck Norris declares are of infini...</td>\n",
       "      <td>[nerdy]</td>\n",
       "    </tr>\n",
       "    <tr>\n",
       "      <th>1</th>\n",
       "      <td>605624dda37040a69f1514e0</td>\n",
       "      <td>538</td>\n",
       "      <td>Chuck Norris's log statements are always at th...</td>\n",
       "      <td>[nerdy]</td>\n",
       "    </tr>\n",
       "    <tr>\n",
       "      <th>2</th>\n",
       "      <td>605624dda37040a69f1514e1</td>\n",
       "      <td>206</td>\n",
       "      <td>Chuck Norris destroyed the periodic table, bec...</td>\n",
       "      <td>[]</td>\n",
       "    </tr>\n",
       "  </tbody>\n",
       "</table>\n",
       "</div>"
      ],
      "text/plain": [
       "                        _id   id  \\\n",
       "0  605624dda37040a69f1514df  449   \n",
       "1  605624dda37040a69f1514e0  538   \n",
       "2  605624dda37040a69f1514e1  206   \n",
       "\n",
       "                                                joke categories  \n",
       "0  All arrays Chuck Norris declares are of infini...    [nerdy]  \n",
       "1  Chuck Norris's log statements are always at th...    [nerdy]  \n",
       "2  Chuck Norris destroyed the periodic table, bec...         []  "
      ]
     },
     "execution_count": 10,
     "metadata": {},
     "output_type": "execute_result"
    }
   ],
   "source": [
    "c = icndb[COLL_STG].aggregate([\n",
    "      {\"$limit\": 3},\n",
    "])\n",
    "\n",
    "pd.DataFrame(c)"
   ]
  },
  {
   "cell_type": "markdown",
   "metadata": {},
   "source": [
    "### Validate Fields"
   ]
  },
  {
   "cell_type": "code",
   "execution_count": 11,
   "metadata": {},
   "outputs": [
    {
     "data": {
      "text/html": [
       "<div>\n",
       "<style scoped>\n",
       "    .dataframe tbody tr th:only-of-type {\n",
       "        vertical-align: middle;\n",
       "    }\n",
       "\n",
       "    .dataframe tbody tr th {\n",
       "        vertical-align: top;\n",
       "    }\n",
       "\n",
       "    .dataframe thead th {\n",
       "        text-align: right;\n",
       "    }\n",
       "</style>\n",
       "<table border=\"1\" class=\"dataframe\">\n",
       "  <thead>\n",
       "    <tr style=\"text-align: right;\">\n",
       "      <th></th>\n",
       "    </tr>\n",
       "  </thead>\n",
       "  <tbody>\n",
       "  </tbody>\n",
       "</table>\n",
       "</div>"
      ],
      "text/plain": [
       "Empty DataFrame\n",
       "Columns: []\n",
       "Index: []"
      ]
     },
     "execution_count": 11,
     "metadata": {},
     "output_type": "execute_result"
    }
   ],
   "source": [
    "c = icndb[COLL_STG].aggregate([\n",
    "    {\"$match\": {\"categories\": {\"$exists\" : False}}},\n",
    "])\n",
    "\n",
    "pd.DataFrame(c)"
   ]
  },
  {
   "cell_type": "code",
   "execution_count": 12,
   "metadata": {},
   "outputs": [
    {
     "data": {
      "text/html": [
       "<div>\n",
       "<style scoped>\n",
       "    .dataframe tbody tr th:only-of-type {\n",
       "        vertical-align: middle;\n",
       "    }\n",
       "\n",
       "    .dataframe tbody tr th {\n",
       "        vertical-align: top;\n",
       "    }\n",
       "\n",
       "    .dataframe thead th {\n",
       "        text-align: right;\n",
       "    }\n",
       "</style>\n",
       "<table border=\"1\" class=\"dataframe\">\n",
       "  <thead>\n",
       "    <tr style=\"text-align: right;\">\n",
       "      <th></th>\n",
       "      <th>_id</th>\n",
       "      <th>id</th>\n",
       "      <th>joke</th>\n",
       "      <th>categories</th>\n",
       "    </tr>\n",
       "  </thead>\n",
       "  <tbody>\n",
       "    <tr>\n",
       "      <th>0</th>\n",
       "      <td>605624dda37040a69f1514ee</td>\n",
       "      <td>555</td>\n",
       "      <td>Chuck Norris doesn't have pubic hairs because ...</td>\n",
       "      <td>[explicit]</td>\n",
       "    </tr>\n",
       "    <tr>\n",
       "      <th>1</th>\n",
       "      <td>605624dda37040a69f15152d</td>\n",
       "      <td>608</td>\n",
       "      <td>Chuck Norris can stand on his head. His dick-h...</td>\n",
       "      <td>[explicit]</td>\n",
       "    </tr>\n",
       "  </tbody>\n",
       "</table>\n",
       "</div>"
      ],
      "text/plain": [
       "                        _id   id  \\\n",
       "0  605624dda37040a69f1514ee  555   \n",
       "1  605624dda37040a69f15152d  608   \n",
       "\n",
       "                                                joke  categories  \n",
       "0  Chuck Norris doesn't have pubic hairs because ...  [explicit]  \n",
       "1  Chuck Norris can stand on his head. His dick-h...  [explicit]  "
      ]
     },
     "execution_count": 12,
     "metadata": {},
     "output_type": "execute_result"
    }
   ],
   "source": [
    "c = icndb[COLL_STG].aggregate([\n",
    "    {\"$match\": {\"categories\": {\"$in\" : [\"explicit\"]}}},\n",
    "])\n",
    "\n",
    "pd.DataFrame(c)"
   ]
  },
  {
   "cell_type": "markdown",
   "metadata": {},
   "source": [
    "### (Re)Create joke collection"
   ]
  },
  {
   "cell_type": "code",
   "execution_count": 13,
   "metadata": {},
   "outputs": [
    {
     "data": {
      "text/html": [
       "<div>\n",
       "<style scoped>\n",
       "    .dataframe tbody tr th:only-of-type {\n",
       "        vertical-align: middle;\n",
       "    }\n",
       "\n",
       "    .dataframe tbody tr th {\n",
       "        vertical-align: top;\n",
       "    }\n",
       "\n",
       "    .dataframe thead th {\n",
       "        text-align: right;\n",
       "    }\n",
       "</style>\n",
       "<table border=\"1\" class=\"dataframe\">\n",
       "  <thead>\n",
       "    <tr style=\"text-align: right;\">\n",
       "      <th></th>\n",
       "      <th>joke</th>\n",
       "      <th>categories</th>\n",
       "      <th>_id</th>\n",
       "    </tr>\n",
       "  </thead>\n",
       "  <tbody>\n",
       "    <tr>\n",
       "      <th>0</th>\n",
       "      <td>All arrays Chuck Norris declares are of infini...</td>\n",
       "      <td>[nerdy]</td>\n",
       "      <td>449</td>\n",
       "    </tr>\n",
       "    <tr>\n",
       "      <th>1</th>\n",
       "      <td>Chuck Norris's log statements are always at th...</td>\n",
       "      <td>[nerdy]</td>\n",
       "      <td>538</td>\n",
       "    </tr>\n",
       "    <tr>\n",
       "      <th>2</th>\n",
       "      <td>Chuck Norris destroyed the periodic table, bec...</td>\n",
       "      <td>[]</td>\n",
       "      <td>206</td>\n",
       "    </tr>\n",
       "    <tr>\n",
       "      <th>3</th>\n",
       "      <td>Chuck Norris can set ants on fire with a magni...</td>\n",
       "      <td>[]</td>\n",
       "      <td>171</td>\n",
       "    </tr>\n",
       "    <tr>\n",
       "      <th>4</th>\n",
       "      <td>Some kids play Kick the can. Chuck Norris play...</td>\n",
       "      <td>[]</td>\n",
       "      <td>172</td>\n",
       "    </tr>\n",
       "    <tr>\n",
       "      <th>...</th>\n",
       "      <td>...</td>\n",
       "      <td>...</td>\n",
       "      <td>...</td>\n",
       "    </tr>\n",
       "    <tr>\n",
       "      <th>93</th>\n",
       "      <td>Chuck Norris does not &amp;quot;style&amp;quot; his ha...</td>\n",
       "      <td>[]</td>\n",
       "      <td>155</td>\n",
       "    </tr>\n",
       "    <tr>\n",
       "      <th>94</th>\n",
       "      <td>The Great Wall of China was originally created...</td>\n",
       "      <td>[]</td>\n",
       "      <td>56</td>\n",
       "    </tr>\n",
       "    <tr>\n",
       "      <th>95</th>\n",
       "      <td>Chuck Norris roundhouse kicks don't really kil...</td>\n",
       "      <td>[]</td>\n",
       "      <td>135</td>\n",
       "    </tr>\n",
       "    <tr>\n",
       "      <th>96</th>\n",
       "      <td>Bill Gates thinks he's Chuck Norris. Chuck Nor...</td>\n",
       "      <td>[]</td>\n",
       "      <td>483</td>\n",
       "    </tr>\n",
       "    <tr>\n",
       "      <th>97</th>\n",
       "      <td>Chuck Norris does not eat. Food understands th...</td>\n",
       "      <td>[]</td>\n",
       "      <td>228</td>\n",
       "    </tr>\n",
       "  </tbody>\n",
       "</table>\n",
       "<p>98 rows × 3 columns</p>\n",
       "</div>"
      ],
      "text/plain": [
       "                                                 joke categories  _id\n",
       "0   All arrays Chuck Norris declares are of infini...    [nerdy]  449\n",
       "1   Chuck Norris's log statements are always at th...    [nerdy]  538\n",
       "2   Chuck Norris destroyed the periodic table, bec...         []  206\n",
       "3   Chuck Norris can set ants on fire with a magni...         []  171\n",
       "4   Some kids play Kick the can. Chuck Norris play...         []  172\n",
       "..                                                ...        ...  ...\n",
       "93  Chuck Norris does not &quot;style&quot; his ha...         []  155\n",
       "94  The Great Wall of China was originally created...         []   56\n",
       "95  Chuck Norris roundhouse kicks don't really kil...         []  135\n",
       "96  Bill Gates thinks he's Chuck Norris. Chuck Nor...         []  483\n",
       "97  Chuck Norris does not eat. Food understands th...         []  228\n",
       "\n",
       "[98 rows x 3 columns]"
      ]
     },
     "execution_count": 13,
     "metadata": {},
     "output_type": "execute_result"
    }
   ],
   "source": [
    "c = icndb[COLL_STG].aggregate([\n",
    "    {\"$match\": {\"categories\": {\"$nin\" : [\"explicit\"]}}},\n",
    "    {\"$project\": {\"_id\": \"$id\", \"joke\": 1, \"categories\": 1}},\n",
    "])\n",
    "\n",
    "pd.DataFrame(c)"
   ]
  },
  {
   "cell_type": "code",
   "execution_count": 14,
   "metadata": {},
   "outputs": [],
   "source": [
    "c = icndb[COLL_STG].aggregate([\n",
    "    {\"$match\": {\"categories\": {\"$nin\" : [\"explicit\"]}}},\n",
    "    {\"$project\": {\"_id\": \"$id\", \"joke\": 1, \"categories\": 1}},\n",
    "    {\"$out\": COLL_JOKES}\n",
    " ])\n",
    "\n",
    "# pd.DataFrame(c)"
   ]
  },
  {
   "cell_type": "markdown",
   "metadata": {},
   "source": [
    "### Cleanup"
   ]
  },
  {
   "cell_type": "code",
   "execution_count": 15,
   "metadata": {},
   "outputs": [],
   "source": [
    "icndb[COLL_SRC].drop()\n",
    "icndb[COLL_STG].drop()"
   ]
  },
  {
   "cell_type": "markdown",
   "metadata": {},
   "source": [
    "# Data analysis"
   ]
  },
  {
   "cell_type": "markdown",
   "metadata": {},
   "source": [
    "Quisque sit amet turpis lectus. Phasellus tincidunt mi metus, et ornare ipsum consectetur eu. Cras accumsan purus vel leo viverra, at mollis neque interdum. Sed non ultrices odio, vitae sodales neque. Quisque diam odio, gravida quis auctor ut, aliquet ac ex. Integer venenatis elit ex, vitae imperdiet tortor malesuada quis. Vestibulum dignissim est sed libero viverra interdum. "
   ]
  },
  {
   "cell_type": "markdown",
   "metadata": {},
   "source": [
    "## Overview"
   ]
  },
  {
   "cell_type": "code",
   "execution_count": 16,
   "metadata": {},
   "outputs": [
    {
     "name": "stdout",
     "output_type": "stream",
     "text": [
      "MongoEYE v0.4 - MongoDB exploration tool\n",
      "\n",
      "Connecting: ...OK\n",
      "\n",
      "Analyzing: ...OK\n",
      "\n",
      "            KEY           │ COUNT  │   %    \n",
      "────────────────────────────────────────────\n",
      "  all documents           │ 98     │        \n",
      "  analyzed documents      │ 98     │ 100.0  \n",
      "                          │        │        \n",
      "  _id ➜ int               │ 98     │ 100.0  \n",
      "  categories ➜ array      │ 98     │ 100.0  \n",
      "  └╴[array item] ➜ string │ 23     │        \n",
      "  joke ➜ string           │ 98     │ 100.0  \n",
      "\n",
      "OK  0.003s (local analysis)\n",
      "    98/98 docs (100.0%)\n",
      "    4 fields, depth 2\n"
     ]
    }
   ],
   "source": [
    "%%bash -s \"{DB_ICNDB}\" \"{COLL_JOKES}\" \n",
    "mongoeye --db $1 --col $2 --sample all "
   ]
  },
  {
   "cell_type": "markdown",
   "metadata": {},
   "source": [
    "### Categories"
   ]
  },
  {
   "cell_type": "code",
   "execution_count": 17,
   "metadata": {},
   "outputs": [
    {
     "data": {
      "text/html": [
       "<div>\n",
       "<style scoped>\n",
       "    .dataframe tbody tr th:only-of-type {\n",
       "        vertical-align: middle;\n",
       "    }\n",
       "\n",
       "    .dataframe tbody tr th {\n",
       "        vertical-align: top;\n",
       "    }\n",
       "\n",
       "    .dataframe thead th {\n",
       "        text-align: right;\n",
       "    }\n",
       "</style>\n",
       "<table border=\"1\" class=\"dataframe\">\n",
       "  <thead>\n",
       "    <tr style=\"text-align: right;\">\n",
       "      <th></th>\n",
       "      <th>_id</th>\n",
       "      <th>count</th>\n",
       "    </tr>\n",
       "  </thead>\n",
       "  <tbody>\n",
       "    <tr>\n",
       "      <th>0</th>\n",
       "      <td>nerdy</td>\n",
       "      <td>23</td>\n",
       "    </tr>\n",
       "  </tbody>\n",
       "</table>\n",
       "</div>"
      ],
      "text/plain": [
       "     _id  count\n",
       "0  nerdy     23"
      ]
     },
     "execution_count": 17,
     "metadata": {},
     "output_type": "execute_result"
    }
   ],
   "source": [
    "c = icndb[COLL_JOKES].aggregate([\n",
    "    {\"$project\": {\"joke\": 0}},\n",
    "    {\"$unwind\": \"$categories\"},\n",
    "    {\"$group\": {\"_id\": \"$categories\", \"count\": {\"$sum\": 1}}},\n",
    " ])\n",
    "\n",
    "pd.DataFrame(c)"
   ]
  },
  {
   "cell_type": "code",
   "execution_count": 18,
   "metadata": {},
   "outputs": [
    {
     "data": {
      "text/html": [
       "<div>\n",
       "<style scoped>\n",
       "    .dataframe tbody tr th:only-of-type {\n",
       "        vertical-align: middle;\n",
       "    }\n",
       "\n",
       "    .dataframe tbody tr th {\n",
       "        vertical-align: top;\n",
       "    }\n",
       "\n",
       "    .dataframe thead th {\n",
       "        text-align: right;\n",
       "    }\n",
       "</style>\n",
       "<table border=\"1\" class=\"dataframe\">\n",
       "  <thead>\n",
       "    <tr style=\"text-align: right;\">\n",
       "      <th></th>\n",
       "      <th>_id</th>\n",
       "      <th>joke</th>\n",
       "      <th>categories</th>\n",
       "    </tr>\n",
       "  </thead>\n",
       "  <tbody>\n",
       "    <tr>\n",
       "      <th>0</th>\n",
       "      <td>449</td>\n",
       "      <td>All arrays Chuck Norris declares are of infini...</td>\n",
       "      <td>[nerdy]</td>\n",
       "    </tr>\n",
       "    <tr>\n",
       "      <th>1</th>\n",
       "      <td>538</td>\n",
       "      <td>Chuck Norris's log statements are always at th...</td>\n",
       "      <td>[nerdy]</td>\n",
       "    </tr>\n",
       "    <tr>\n",
       "      <th>2</th>\n",
       "      <td>451</td>\n",
       "      <td>Chuck Norris writes code that optimizes itself.</td>\n",
       "      <td>[nerdy]</td>\n",
       "    </tr>\n",
       "    <tr>\n",
       "      <th>3</th>\n",
       "      <td>537</td>\n",
       "      <td>Each hair in Chuck Norris's beard contributes ...</td>\n",
       "      <td>[nerdy]</td>\n",
       "    </tr>\n",
       "    <tr>\n",
       "      <th>4</th>\n",
       "      <td>496</td>\n",
       "      <td>Chuck Norris went out of an infinite loop.</td>\n",
       "      <td>[nerdy]</td>\n",
       "    </tr>\n",
       "    <tr>\n",
       "      <th>5</th>\n",
       "      <td>497</td>\n",
       "      <td>If Chuck Norris writes code with bugs, the bug...</td>\n",
       "      <td>[nerdy]</td>\n",
       "    </tr>\n",
       "    <tr>\n",
       "      <th>6</th>\n",
       "      <td>494</td>\n",
       "      <td>Chuck Norris breaks RSA 128-bit encrypted code...</td>\n",
       "      <td>[nerdy]</td>\n",
       "    </tr>\n",
       "    <tr>\n",
       "      <th>7</th>\n",
       "      <td>506</td>\n",
       "      <td>Chuck Norris programs do not accept input.</td>\n",
       "      <td>[nerdy]</td>\n",
       "    </tr>\n",
       "    <tr>\n",
       "      <th>8</th>\n",
       "      <td>461</td>\n",
       "      <td>Chuck Norris finished World of Warcraft.</td>\n",
       "      <td>[nerdy]</td>\n",
       "    </tr>\n",
       "    <tr>\n",
       "      <th>9</th>\n",
       "      <td>552</td>\n",
       "      <td>Chuck Norris knows the value of NULL, and he c...</td>\n",
       "      <td>[nerdy]</td>\n",
       "    </tr>\n",
       "    <tr>\n",
       "      <th>10</th>\n",
       "      <td>458</td>\n",
       "      <td>Chuck Norris can write infinite recursion func...</td>\n",
       "      <td>[nerdy]</td>\n",
       "    </tr>\n",
       "    <tr>\n",
       "      <th>11</th>\n",
       "      <td>529</td>\n",
       "      <td>Chuck Norris doesn't use Oracle, he is the Ora...</td>\n",
       "      <td>[nerdy]</td>\n",
       "    </tr>\n",
       "    <tr>\n",
       "      <th>12</th>\n",
       "      <td>533</td>\n",
       "      <td>The Chuck Norris Eclipse plugin made alien con...</td>\n",
       "      <td>[nerdy]</td>\n",
       "    </tr>\n",
       "    <tr>\n",
       "      <th>13</th>\n",
       "      <td>500</td>\n",
       "      <td>Chuck Norris can access the DB from the UI.</td>\n",
       "      <td>[nerdy]</td>\n",
       "    </tr>\n",
       "    <tr>\n",
       "      <th>14</th>\n",
       "      <td>513</td>\n",
       "      <td>Chuck Norris does not code in cycles, he codes...</td>\n",
       "      <td>[nerdy]</td>\n",
       "    </tr>\n",
       "    <tr>\n",
       "      <th>15</th>\n",
       "      <td>459</td>\n",
       "      <td>Chuck Norris can solve the Towers of Hanoi in ...</td>\n",
       "      <td>[nerdy]</td>\n",
       "    </tr>\n",
       "    <tr>\n",
       "      <th>16</th>\n",
       "      <td>26</td>\n",
       "      <td>Chuck Norris is the only human being to displa...</td>\n",
       "      <td>[nerdy]</td>\n",
       "    </tr>\n",
       "    <tr>\n",
       "      <th>17</th>\n",
       "      <td>520</td>\n",
       "      <td>With Chuck Norris P = NP. There's no nondeterm...</td>\n",
       "      <td>[nerdy]</td>\n",
       "    </tr>\n",
       "    <tr>\n",
       "      <th>18</th>\n",
       "      <td>542</td>\n",
       "      <td>Chuck Norris types with one finger. He points ...</td>\n",
       "      <td>[nerdy]</td>\n",
       "    </tr>\n",
       "    <tr>\n",
       "      <th>19</th>\n",
       "      <td>485</td>\n",
       "      <td>Chuck Norris' Internet connection is faster up...</td>\n",
       "      <td>[nerdy]</td>\n",
       "    </tr>\n",
       "    <tr>\n",
       "      <th>20</th>\n",
       "      <td>476</td>\n",
       "      <td>Chuck Norris doesn't need a debugger, he just ...</td>\n",
       "      <td>[nerdy]</td>\n",
       "    </tr>\n",
       "    <tr>\n",
       "      <th>21</th>\n",
       "      <td>501</td>\n",
       "      <td>Chuck Norris' programs never exit, they termin...</td>\n",
       "      <td>[nerdy]</td>\n",
       "    </tr>\n",
       "    <tr>\n",
       "      <th>22</th>\n",
       "      <td>511</td>\n",
       "      <td>Every SQL statement that Chuck Norris codes ha...</td>\n",
       "      <td>[nerdy]</td>\n",
       "    </tr>\n",
       "  </tbody>\n",
       "</table>\n",
       "</div>"
      ],
      "text/plain": [
       "    _id                                               joke categories\n",
       "0   449  All arrays Chuck Norris declares are of infini...    [nerdy]\n",
       "1   538  Chuck Norris's log statements are always at th...    [nerdy]\n",
       "2   451    Chuck Norris writes code that optimizes itself.    [nerdy]\n",
       "3   537  Each hair in Chuck Norris's beard contributes ...    [nerdy]\n",
       "4   496         Chuck Norris went out of an infinite loop.    [nerdy]\n",
       "5   497  If Chuck Norris writes code with bugs, the bug...    [nerdy]\n",
       "6   494  Chuck Norris breaks RSA 128-bit encrypted code...    [nerdy]\n",
       "7   506         Chuck Norris programs do not accept input.    [nerdy]\n",
       "8   461           Chuck Norris finished World of Warcraft.    [nerdy]\n",
       "9   552  Chuck Norris knows the value of NULL, and he c...    [nerdy]\n",
       "10  458  Chuck Norris can write infinite recursion func...    [nerdy]\n",
       "11  529  Chuck Norris doesn't use Oracle, he is the Ora...    [nerdy]\n",
       "12  533  The Chuck Norris Eclipse plugin made alien con...    [nerdy]\n",
       "13  500        Chuck Norris can access the DB from the UI.    [nerdy]\n",
       "14  513  Chuck Norris does not code in cycles, he codes...    [nerdy]\n",
       "15  459  Chuck Norris can solve the Towers of Hanoi in ...    [nerdy]\n",
       "16   26  Chuck Norris is the only human being to displa...    [nerdy]\n",
       "17  520  With Chuck Norris P = NP. There's no nondeterm...    [nerdy]\n",
       "18  542  Chuck Norris types with one finger. He points ...    [nerdy]\n",
       "19  485  Chuck Norris' Internet connection is faster up...    [nerdy]\n",
       "20  476  Chuck Norris doesn't need a debugger, he just ...    [nerdy]\n",
       "21  501  Chuck Norris' programs never exit, they termin...    [nerdy]\n",
       "22  511  Every SQL statement that Chuck Norris codes ha...    [nerdy]"
      ]
     },
     "execution_count": 18,
     "metadata": {},
     "output_type": "execute_result"
    }
   ],
   "source": [
    "c = icndb[COLL_JOKES].aggregate([\n",
    "    {\"$match\": {\"categories\":  {\"$in\" : [\"nerdy\"]}}},\n",
    "])\n",
    "\n",
    "pd.DataFrame(c)"
   ]
  },
  {
   "cell_type": "markdown",
   "metadata": {},
   "source": [
    "### Jokes"
   ]
  },
  {
   "cell_type": "markdown",
   "metadata": {},
   "source": [
    "Orci varius natoque penatibus et magnis dis parturient montes, nascetur ridiculus mus. Donec in risus sed augue blandit tincidunt eu nec leo. Phasellus suscipit ex ut luctus auctor. Mauris efficitur finibus nunc, gravida pulvinar metus commodo eget. Quisque quis orci vehicula, maximus tellus sit amet, dignissim ligula. Proin auctor, tellus eget tempus imperdiet, nunc nisi laoreet tellus, nec viverra ipsum quam in quam. \n",
    "\n",
    "Nam ut pellentesque arcu. Ut faucibus elit enim, nec tincidunt massa mattis id. Cras tortor urna, tempus eu viverra quis, suscipit sed magna. Mauris eget eleifend leo, ut tristique justo. In quis lectus eu neque euismod bibendum non in mi. In lobortis iaculis pulvinar. Morbi et mi neque. Etiam maximus elementum metus, non auctor dui eleifend ac."
   ]
  },
  {
   "cell_type": "code",
   "execution_count": 19,
   "metadata": {},
   "outputs": [
    {
     "data": {
      "text/html": [
       "<div>\n",
       "<style scoped>\n",
       "    .dataframe tbody tr th:only-of-type {\n",
       "        vertical-align: middle;\n",
       "    }\n",
       "\n",
       "    .dataframe tbody tr th {\n",
       "        vertical-align: top;\n",
       "    }\n",
       "\n",
       "    .dataframe thead th {\n",
       "        text-align: right;\n",
       "    }\n",
       "</style>\n",
       "<table border=\"1\" class=\"dataframe\">\n",
       "  <thead>\n",
       "    <tr style=\"text-align: right;\">\n",
       "      <th></th>\n",
       "      <th>_id</th>\n",
       "      <th>joke</th>\n",
       "      <th>categories</th>\n",
       "    </tr>\n",
       "  </thead>\n",
       "  <tbody>\n",
       "    <tr>\n",
       "      <th>0</th>\n",
       "      <td>72</td>\n",
       "      <td>How much wood would a woodchuck chuck if a woo...</td>\n",
       "      <td>[]</td>\n",
       "    </tr>\n",
       "  </tbody>\n",
       "</table>\n",
       "</div>"
      ],
      "text/plain": [
       "   _id                                               joke categories\n",
       "0   72  How much wood would a woodchuck chuck if a woo...         []"
      ]
     },
     "execution_count": 19,
     "metadata": {},
     "output_type": "execute_result"
    }
   ],
   "source": [
    "c = icndb[COLL_JOKES].aggregate([\n",
    "    {\"$match\": {\"joke\":  {\"$regex\" : \"chuck\",  \"$options\": \"\"}}},\n",
    "])\n",
    "\n",
    "pd.DataFrame(c)"
   ]
  },
  {
   "cell_type": "code",
   "execution_count": 20,
   "metadata": {},
   "outputs": [
    {
     "data": {
      "text/html": [
       "<div>\n",
       "<style scoped>\n",
       "    .dataframe tbody tr th:only-of-type {\n",
       "        vertical-align: middle;\n",
       "    }\n",
       "\n",
       "    .dataframe tbody tr th {\n",
       "        vertical-align: top;\n",
       "    }\n",
       "\n",
       "    .dataframe thead th {\n",
       "        text-align: right;\n",
       "    }\n",
       "</style>\n",
       "<table border=\"1\" class=\"dataframe\">\n",
       "  <thead>\n",
       "    <tr style=\"text-align: right;\">\n",
       "      <th></th>\n",
       "    </tr>\n",
       "  </thead>\n",
       "  <tbody>\n",
       "  </tbody>\n",
       "</table>\n",
       "</div>"
      ],
      "text/plain": [
       "Empty DataFrame\n",
       "Columns: []\n",
       "Index: []"
      ]
     },
     "execution_count": 20,
     "metadata": {},
     "output_type": "execute_result"
    }
   ],
   "source": [
    "c = icndb[COLL_JOKES].aggregate([\n",
    "    {\"$project\": {\"joke\": 1}},\n",
    "    {\"$match\": {\"joke\":  {\"$not\": {\"$regex\" : \"chuck\",  \"$options\": \"i\"}}}},\n",
    "])\n",
    "\n",
    "pd.DataFrame(c)"
   ]
  },
  {
   "cell_type": "code",
   "execution_count": 21,
   "metadata": {},
   "outputs": [
    {
     "data": {
      "text/html": [
       "<div>\n",
       "<style scoped>\n",
       "    .dataframe tbody tr th:only-of-type {\n",
       "        vertical-align: middle;\n",
       "    }\n",
       "\n",
       "    .dataframe tbody tr th {\n",
       "        vertical-align: top;\n",
       "    }\n",
       "\n",
       "    .dataframe thead th {\n",
       "        text-align: right;\n",
       "    }\n",
       "</style>\n",
       "<table border=\"1\" class=\"dataframe\">\n",
       "  <thead>\n",
       "    <tr style=\"text-align: right;\">\n",
       "      <th></th>\n",
       "      <th>_id</th>\n",
       "      <th>joke</th>\n",
       "      <th>categories</th>\n",
       "    </tr>\n",
       "  </thead>\n",
       "  <tbody>\n",
       "    <tr>\n",
       "      <th>0</th>\n",
       "      <td>72</td>\n",
       "      <td>How much wood would a woodchuck chuck if a woo...</td>\n",
       "      <td>[]</td>\n",
       "    </tr>\n",
       "  </tbody>\n",
       "</table>\n",
       "</div>"
      ],
      "text/plain": [
       "   _id                                               joke categories\n",
       "0   72  How much wood would a woodchuck chuck if a woo...         []"
      ]
     },
     "execution_count": 21,
     "metadata": {},
     "output_type": "execute_result"
    }
   ],
   "source": [
    "c = icndb[COLL_JOKES].aggregate([\n",
    "    {\"$match\": {\"joke\":  {\"$regex\" : \"chuck\",  \"$options\": \"\"}}},\n",
    "])\n",
    "\n",
    "pd.DataFrame(c)"
   ]
  },
  {
   "cell_type": "markdown",
   "metadata": {},
   "source": [
    "Curabitur vel magna nec ipsum pulvinar imperdiet vitae vitae nisi. Pellentesque mattis ultricies diam eu cursus. Maecenas eleifend ante arcu, at feugiat erat eleifend eu. In volutpat faucibus dui, sed faucibus ligula faucibus et. Maecenas convallis sodales sollicitudin. Ut consectetur, arcu ac imperdiet rutrum, massa nisi sollicitudin odio, vel mattis mi augue et sem. \n",
    "\n",
    "Fusce semper porta risus, vitae hendrerit mauris congue vitae. Praesent venenatis varius lacus. Cras tempor augue lectus, at iaculis ex pretium sit amet. In hac habitasse platea dictumst. Nunc pharetra est eu pellentesque hendrerit. Ut nec varius sem. Morbi eu elit id lacus laoreet pharetra."
   ]
  },
  {
   "cell_type": "markdown",
   "metadata": {},
   "source": [
    "# Conclusions"
   ]
  },
  {
   "cell_type": "markdown",
   "metadata": {},
   "source": [
    "Lorem ipsum dolor sit amet, consetetur sadipscing elitr, sed diam nonumy eirmod tempor invidunt ut labore et dolore magna aliquyam erat, sed diam voluptua. At vero eos et accusam et justo duo dolores et ea rebum. Stet clita kasd gubergren, no sea takimata sanctus est Lorem ipsum dolor sit amet. Lorem ipsum dolor sit amet, consetetur sadipscing elitr, sed diam nonumy eirmod tempor invidunt ut labore et dolore magna aliquyam erat, sed diam voluptua. At vero eos et accusam et justo duo dolores et ea rebum. Stet clita kasd gubergren, no sea takimata sanctus est Lorem ipsum dolor sit amet. Lorem ipsum dolor sit amet, consetetur sadipscing elitr, sed diam nonumy eirmod tempor invidunt ut labore et dolore magna aliquyam erat, sed diam voluptua. At vero eos et accusam et justo duo dolores et ea rebum. Stet clita kasd gubergren, no sea takimata sanctus est Lorem ipsum dolor sit amet. \n",
    "\n",
    "Duis autem vel eum iriure dolor in hendrerit in vulputate velit esse molestie consequat, vel illum dolore eu feugiat nulla facilisis at vero eros et accumsan et iusto odio dignissim qui blandit praesent luptatum zzril delenit augue duis dolore te feugait nulla facilisi. Lorem ipsum dolor sit amet, consectetuer adipiscing elit, sed diam nonummy nibh euismod tincidunt ut laoreet dolore magna aliquam erat volutpat. \n",
    "\n",
    "Ut wisi enim ad minim veniam, quis nostrud exerci tation ullamcorper suscipit lobortis nisl ut aliquip ex ea commodo consequat. Duis autem vel eum iriure dolor in hendrerit in vulputate velit esse molestie consequat, vel illum dolore eu feugiat nulla facilisis at vero eros et accumsan et iusto odio dignissim qui blandit praesent luptatum zzril delenit augue duis dolore te feugait nulla facilisi. "
   ]
  },
  {
   "cell_type": "markdown",
   "metadata": {},
   "source": [
    "# Remarks"
   ]
  },
  {
   "cell_type": "markdown",
   "metadata": {},
   "source": [
    "## Learnings"
   ]
  },
  {
   "cell_type": "markdown",
   "metadata": {},
   "source": [
    "Duis autem vel eum iriure dolor in hendrerit in vulputate velit esse molestie consequat, vel illum dolore eu feugiat nulla facilisis at vero eros et accumsan et iusto odio dignissim qui blandit praesent luptatum zzril delenit augue duis dolore te feugait nulla facilisi. Lorem ipsum dolor sit amet, consectetuer adipiscing elit, sed diam nonummy nibh euismod tincidunt ut laoreet dolore magna aliquam erat volutpat."
   ]
  }
 ],
 "metadata": {
  "kernelspec": {
   "display_name": "Python 3",
   "language": "python",
   "name": "python3"
  },
  "language_info": {
   "codemirror_mode": {
    "name": "ipython",
    "version": 3
   },
   "file_extension": ".py",
   "mimetype": "text/x-python",
   "name": "python",
   "nbconvert_exporter": "python",
   "pygments_lexer": "ipython3",
   "version": "3.8.8"
  }
 },
 "nbformat": 4,
 "nbformat_minor": 4
}