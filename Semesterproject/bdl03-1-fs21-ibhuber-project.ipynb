{
 "cells": [
  {
   "cell_type": "markdown",
   "metadata": {},
   "source": [
    "# BDL01 Semesterproject\n",
    "## Analysis On Police-registered traffic accidents in the canton of Zurich\n",
    "\n",
    "The traffic accident statistics of the Canton of Zurich (VUSTA) contains the road traffic accidents with personal injury and property damage registered by the Cantonal Police of Zurich, the Traffic Department of the City of Zurich and the Winterthur City Police. It is updated once a year, towards the end of the first quarter of the following year. The dataset covers the time from January 1, 2011 - December 31, 2020"
   ]
  },
  {
   "cell_type": "markdown",
   "metadata": {},
   "source": [
    "![AccidentDatamodell](Images/AccidentsDatamodell.png)\n"
   ]
  },
  {
   "cell_type": "markdown",
   "metadata": {},
   "source": [
    "![Dataflow](Images/Dataflow.png)"
   ]
  },
  {
   "cell_type": "markdown",
   "metadata": {},
   "source": [
    "# Installation, Requirements"
   ]
  },
  {
   "cell_type": "code",
   "execution_count": 1,
   "metadata": {},
   "outputs": [],
   "source": [
    "#! pip3 list | grep -E 'pymongo|json|pandas|requests|matplotlib|numpy|pprint'"
   ]
  },
  {
   "cell_type": "code",
   "execution_count": 2,
   "metadata": {
    "pycharm": {
     "name": "#%%\n"
    }
   },
   "outputs": [],
   "source": [
    "import pandas as pd\n",
    "from pymongo import MongoClient\n",
    "from pprint import pprint\n",
    "import pandas as pd\n",
    "import requests\n",
    "from datetime import datetime\n",
    "from datetime import timedelta\n",
    "import time\n",
    "import json\n",
    "import bigjson\n",
    "import numpy as np\n",
    "from pymongo.errors import DuplicateKeyError\n",
    "from pymongo.errors import OperationFailure, DuplicateKeyError\n",
    "import matplotlib.pyplot as plt\n",
    "\n",
    "pd.set_option('precision', 2)\n",
    "pd.set_option('max_rows', 20)\n",
    "pd.set_option('max_colwidth', 30)\n",
    "# pd.describe_option('max_rows')\n",
    "# pd.describe_option('precision')\n",
    "# pd.describe_option('max_colwidth')\n",
    "pd.set_option(\"display.max_columns\", None)\n",
    "plt.rcParams[\"figure.figsize\"] = (20,10)\n",
    "#Reset do default figsize\n",
    "#plt.rcParams[\"figure.figsize\"] = plt.rcParamsDefault[\"figure.figsize\"]"
   ]
  },
  {
   "cell_type": "markdown",
   "metadata": {
    "pycharm": {
     "name": "#%% md\n"
    }
   },
   "source": [
    "### Connect, dbs"
   ]
  },
  {
   "cell_type": "code",
   "execution_count": 3,
   "metadata": {
    "pycharm": {
     "name": "#%%\n"
    }
   },
   "outputs": [],
   "source": [
    "client = MongoClient(host=\"localhost\",port=27017)\n",
    "database = client[\"bdl03\"]"
   ]
  },
  {
   "cell_type": "markdown",
   "metadata": {},
   "source": [
    "# ETL/ ELT \n",
    "    "
   ]
  },
  {
   "cell_type": "markdown",
   "metadata": {},
   "source": [
    "## Import Files\n",
    "\n",
    "The accident data can be retrieved from https://opendata.swiss/en/dataset/polizeilich-registrierte-verkehrsunfalle-im-kanton-zurich/resource/e0758b22-1e77-4d96-aacd-18ced0ba3781 or directly be read from https://www.web.statistik.zh.ch/ogd/data/kapo/RoadTrafficAccidentLocations.json"
   ]
  },
  {
   "cell_type": "code",
   "execution_count": 4,
   "metadata": {},
   "outputs": [],
   "source": [
    "request = requests.get(\"https://www.web.statistik.zh.ch/ogd/data/kapo/RoadTrafficAccidentLocations.json\")\n",
    "if request.status_code == 200:\n",
    "        data = request.json()"
   ]
  },
  {
   "cell_type": "code",
   "execution_count": 5,
   "metadata": {},
   "outputs": [],
   "source": [
    "#data"
   ]
  },
  {
   "cell_type": "code",
   "execution_count": 6,
   "metadata": {},
   "outputs": [],
   "source": [
    "    #try:\n",
    "        #database.Accidents.insert_one(data)\n",
    "\n",
    "    "
   ]
  },
  {
   "cell_type": "code",
   "execution_count": 7,
   "metadata": {},
   "outputs": [
    {
     "name": "stdout",
     "output_type": "stream",
     "text": [
      "(\"{'_id': ObjectId('60afc7769ddbd12dc82a1da1'), 'AccidentUID': \"\n",
      " \"'A70191D0D45E00B0E0430A83942700B0', 'AccidentType': 'at0', \"\n",
      " \"'AccidentType_de': 'Schleuder- oder Selbstunfall', 'AccidentType_fr': \"\n",
      " \"'dérapage ou perte de maîtrise', 'AccidentType_it': 'Incidente di \"\n",
      " \"sbandamento o per colpa propria', 'AccidentType_en': 'Accident with skidding \"\n",
      " \"or self-accident', 'AccidentSeverityCategory': 'as4', \"\n",
      " \"'AccidentSeverityCategory_de': 'Unfall mit Sachschaden', \"\n",
      " \"'AccidentSeverityCategory_fr': 'accident avec dommages matériels', \"\n",
      " \"'AccidentSeverityCategory_it': 'Incidente con danni materiali', \"\n",
      " \"'AccidentSeverityCategory_en': 'Accident with property damage', \"\n",
      " \"'AccidentInvolvingPedestrian': 'false', 'AccidentInvolvingBicycle': 'false', \"\n",
      " \"'AccidentInvolvingMotorcycle': 'false', 'RoadType': 'rt432', 'RoadType_de': \"\n",
      " \"'Hauptstrasse', 'RoadType_fr': 'route principale', 'RoadType_it': 'Strada \"\n",
      " \"principale', 'RoadType_en': 'Principal road', 'AccidentLocation_CHLV95_E': \"\n",
      " \"'2676380', 'AccidentLocation_CHLV95_N': '1250175', 'CantonCode': 'ZH', \"\n",
      " \"'MunicipalityCode': '0247', 'AccidentYear': '2011', 'AccidentMonth': '1', \"\n",
      " \"'AccidentMonth_de': 'Januar', 'AccidentMonth_fr': 'janvier', \"\n",
      " \"'AccidentMonth_it': 'Gennaio', 'AccidentMonth_en': 'January', \"\n",
      " \"'AccidentWeekDay': 'aw406', 'AccidentWeekDay_de': 'Samstag', \"\n",
      " \"'AccidentWeekDay_fr': 'samedi', 'AccidentWeekDay_it': 'Sabato', \"\n",
      " \"'AccidentWeekDay_en': 'Saturday', 'AccidentHour': '00', 'AccidentHour_text': \"\n",
      " \"'00h-01h'}\")\n"
     ]
    }
   ],
   "source": [
    "c = database.Accidents.aggregate([\n",
    "      {\"$limit\": 1},\n",
    "])\n",
    "\n",
    "for doc in c:\n",
    "     pprint(f\"{doc}\"[:5000])"
   ]
  },
  {
   "cell_type": "code",
   "execution_count": 8,
   "metadata": {},
   "outputs": [
    {
     "data": {
      "text/html": [
       "<div>\n",
       "<style scoped>\n",
       "    .dataframe tbody tr th:only-of-type {\n",
       "        vertical-align: middle;\n",
       "    }\n",
       "\n",
       "    .dataframe tbody tr th {\n",
       "        vertical-align: top;\n",
       "    }\n",
       "\n",
       "    .dataframe thead th {\n",
       "        text-align: right;\n",
       "    }\n",
       "</style>\n",
       "<table border=\"1\" class=\"dataframe\">\n",
       "  <thead>\n",
       "    <tr style=\"text-align: right;\">\n",
       "      <th></th>\n",
       "      <th>_id</th>\n",
       "      <th>AccidentUID</th>\n",
       "      <th>AccidentType</th>\n",
       "      <th>AccidentType_de</th>\n",
       "      <th>AccidentType_fr</th>\n",
       "      <th>AccidentType_it</th>\n",
       "      <th>AccidentType_en</th>\n",
       "      <th>AccidentSeverityCategory</th>\n",
       "      <th>AccidentSeverityCategory_de</th>\n",
       "      <th>AccidentSeverityCategory_fr</th>\n",
       "      <th>AccidentSeverityCategory_it</th>\n",
       "      <th>AccidentSeverityCategory_en</th>\n",
       "      <th>AccidentInvolvingPedestrian</th>\n",
       "      <th>AccidentInvolvingBicycle</th>\n",
       "      <th>AccidentInvolvingMotorcycle</th>\n",
       "      <th>RoadType</th>\n",
       "      <th>RoadType_de</th>\n",
       "      <th>RoadType_fr</th>\n",
       "      <th>RoadType_it</th>\n",
       "      <th>RoadType_en</th>\n",
       "      <th>AccidentLocation_CHLV95_E</th>\n",
       "      <th>AccidentLocation_CHLV95_N</th>\n",
       "      <th>CantonCode</th>\n",
       "      <th>MunicipalityCode</th>\n",
       "      <th>AccidentYear</th>\n",
       "      <th>AccidentMonth</th>\n",
       "      <th>AccidentMonth_de</th>\n",
       "      <th>AccidentMonth_fr</th>\n",
       "      <th>AccidentMonth_it</th>\n",
       "      <th>AccidentMonth_en</th>\n",
       "      <th>AccidentWeekDay</th>\n",
       "      <th>AccidentWeekDay_de</th>\n",
       "      <th>AccidentWeekDay_fr</th>\n",
       "      <th>AccidentWeekDay_it</th>\n",
       "      <th>AccidentWeekDay_en</th>\n",
       "      <th>AccidentHour</th>\n",
       "      <th>AccidentHour_text</th>\n",
       "    </tr>\n",
       "  </thead>\n",
       "  <tbody>\n",
       "    <tr>\n",
       "      <th>0</th>\n",
       "      <td>60afc7769ddbd12dc82a1da1</td>\n",
       "      <td>A70191D0D45E00B0E0430A8394...</td>\n",
       "      <td>at0</td>\n",
       "      <td>Schleuder- oder Selbstunfall</td>\n",
       "      <td>dérapage ou perte de maîtrise</td>\n",
       "      <td>Incidente di sbandamento o...</td>\n",
       "      <td>Accident with skidding or ...</td>\n",
       "      <td>as4</td>\n",
       "      <td>Unfall mit Sachschaden</td>\n",
       "      <td>accident avec dommages mat...</td>\n",
       "      <td>Incidente con danni materiali</td>\n",
       "      <td>Accident with property damage</td>\n",
       "      <td>false</td>\n",
       "      <td>false</td>\n",
       "      <td>false</td>\n",
       "      <td>rt432</td>\n",
       "      <td>Hauptstrasse</td>\n",
       "      <td>route principale</td>\n",
       "      <td>Strada principale</td>\n",
       "      <td>Principal road</td>\n",
       "      <td>2676380</td>\n",
       "      <td>1250175</td>\n",
       "      <td>ZH</td>\n",
       "      <td>0247</td>\n",
       "      <td>2011</td>\n",
       "      <td>1</td>\n",
       "      <td>Januar</td>\n",
       "      <td>janvier</td>\n",
       "      <td>Gennaio</td>\n",
       "      <td>January</td>\n",
       "      <td>aw406</td>\n",
       "      <td>Samstag</td>\n",
       "      <td>samedi</td>\n",
       "      <td>Sabato</td>\n",
       "      <td>Saturday</td>\n",
       "      <td>00</td>\n",
       "      <td>00h-01h</td>\n",
       "    </tr>\n",
       "  </tbody>\n",
       "</table>\n",
       "</div>"
      ],
      "text/plain": [
       "                        _id                    AccidentUID AccidentType  \\\n",
       "0  60afc7769ddbd12dc82a1da1  A70191D0D45E00B0E0430A8394...          at0   \n",
       "\n",
       "                AccidentType_de                AccidentType_fr  \\\n",
       "0  Schleuder- oder Selbstunfall  dérapage ou perte de maîtrise   \n",
       "\n",
       "                 AccidentType_it                AccidentType_en  \\\n",
       "0  Incidente di sbandamento o...  Accident with skidding or ...   \n",
       "\n",
       "  AccidentSeverityCategory AccidentSeverityCategory_de  \\\n",
       "0                      as4      Unfall mit Sachschaden   \n",
       "\n",
       "     AccidentSeverityCategory_fr    AccidentSeverityCategory_it  \\\n",
       "0  accident avec dommages mat...  Incidente con danni materiali   \n",
       "\n",
       "     AccidentSeverityCategory_en AccidentInvolvingPedestrian  \\\n",
       "0  Accident with property damage                       false   \n",
       "\n",
       "  AccidentInvolvingBicycle AccidentInvolvingMotorcycle RoadType   RoadType_de  \\\n",
       "0                    false                       false    rt432  Hauptstrasse   \n",
       "\n",
       "        RoadType_fr        RoadType_it     RoadType_en  \\\n",
       "0  route principale  Strada principale  Principal road   \n",
       "\n",
       "  AccidentLocation_CHLV95_E AccidentLocation_CHLV95_N CantonCode  \\\n",
       "0                   2676380                   1250175         ZH   \n",
       "\n",
       "  MunicipalityCode AccidentYear AccidentMonth AccidentMonth_de  \\\n",
       "0             0247         2011             1           Januar   \n",
       "\n",
       "  AccidentMonth_fr AccidentMonth_it AccidentMonth_en AccidentWeekDay  \\\n",
       "0          janvier          Gennaio          January           aw406   \n",
       "\n",
       "  AccidentWeekDay_de AccidentWeekDay_fr AccidentWeekDay_it AccidentWeekDay_en  \\\n",
       "0            Samstag             samedi             Sabato           Saturday   \n",
       "\n",
       "  AccidentHour AccidentHour_text  \n",
       "0           00           00h-01h  "
      ]
     },
     "execution_count": 8,
     "metadata": {},
     "output_type": "execute_result"
    }
   ],
   "source": [
    "c = database.Accidents.aggregate([\n",
    "      {\"$limit\": 1},\n",
    "])\n",
    "\n",
    "pd.DataFrame(c)"
   ]
  },
  {
   "cell_type": "markdown",
   "metadata": {},
   "source": [
    "## Validate Fields"
   ]
  },
  {
   "cell_type": "code",
   "execution_count": 9,
   "metadata": {},
   "outputs": [
    {
     "data": {
      "text/html": [
       "<div>\n",
       "<style scoped>\n",
       "    .dataframe tbody tr th:only-of-type {\n",
       "        vertical-align: middle;\n",
       "    }\n",
       "\n",
       "    .dataframe tbody tr th {\n",
       "        vertical-align: top;\n",
       "    }\n",
       "\n",
       "    .dataframe thead th {\n",
       "        text-align: right;\n",
       "    }\n",
       "</style>\n",
       "<table border=\"1\" class=\"dataframe\">\n",
       "  <thead>\n",
       "    <tr style=\"text-align: right;\">\n",
       "      <th></th>\n",
       "    </tr>\n",
       "  </thead>\n",
       "  <tbody>\n",
       "  </tbody>\n",
       "</table>\n",
       "</div>"
      ],
      "text/plain": [
       "Empty DataFrame\n",
       "Columns: []\n",
       "Index: []"
      ]
     },
     "execution_count": 9,
     "metadata": {},
     "output_type": "execute_result"
    }
   ],
   "source": [
    "c = database.Accidents.aggregate([\n",
    "    {\"$match\": {\"AccidentType_en\": {\"$exists\" : False}}},\n",
    "])\n",
    "\n",
    "pd.DataFrame(c)"
   ]
  },
  {
   "cell_type": "code",
   "execution_count": 10,
   "metadata": {},
   "outputs": [],
   "source": [
    "c = database.Accidents.aggregate([\n",
    "    {\"$match\": {'AccidentSeverityCategory_de': {\"$in\" : ['Unfall mit Sachschaden']}}},\n",
    "])\n",
    "\n",
    "\n",
    "df = pd.DataFrame(c)"
   ]
  },
  {
   "cell_type": "markdown",
   "metadata": {},
   "source": [
    "### (Re)Create Accidents collection"
   ]
  },
  {
   "cell_type": "code",
   "execution_count": 11,
   "metadata": {},
   "outputs": [],
   "source": [
    "c = database.Accidents.aggregate([\n",
    "    {\"$project\": {\"_id\": \"$AccidentUID\", 'AccidentType':1, 'AccidentType_en':1,\n",
    "       'AccidentSeverityCategory':1, \n",
    "       'AccidentSeverityCategory_en':1, 'AccidentInvolvingPedestrian':1,\n",
    "       'AccidentInvolvingBicycle':1, 'AccidentInvolvingMotorcycle':1, 'RoadType':1, 'RoadType_en':1,'CantonCode':1,\n",
    "       'MunicipalityCode':1, 'AccidentYear':1, 'AccidentMonth':1,'AccidentMonth_en':1,\n",
    "       'AccidentWeekDay':1, 'AccidentWeekDay_en':1, 'AccidentHour':1,\n",
    "       'AccidentHour_text':1}},\n",
    "])\n",
    "df = pd.DataFrame(c)"
   ]
  },
  {
   "cell_type": "code",
   "execution_count": 12,
   "metadata": {},
   "outputs": [
    {
     "data": {
      "text/html": [
       "<div>\n",
       "<style scoped>\n",
       "    .dataframe tbody tr th:only-of-type {\n",
       "        vertical-align: middle;\n",
       "    }\n",
       "\n",
       "    .dataframe tbody tr th {\n",
       "        vertical-align: top;\n",
       "    }\n",
       "\n",
       "    .dataframe thead th {\n",
       "        text-align: right;\n",
       "    }\n",
       "</style>\n",
       "<table border=\"1\" class=\"dataframe\">\n",
       "  <thead>\n",
       "    <tr style=\"text-align: right;\">\n",
       "      <th></th>\n",
       "      <th>AccidentType</th>\n",
       "      <th>AccidentType_en</th>\n",
       "      <th>AccidentSeverityCategory</th>\n",
       "      <th>AccidentSeverityCategory_en</th>\n",
       "      <th>AccidentInvolvingPedestrian</th>\n",
       "      <th>AccidentInvolvingBicycle</th>\n",
       "      <th>AccidentInvolvingMotorcycle</th>\n",
       "      <th>RoadType</th>\n",
       "      <th>RoadType_en</th>\n",
       "      <th>CantonCode</th>\n",
       "      <th>MunicipalityCode</th>\n",
       "      <th>AccidentYear</th>\n",
       "      <th>AccidentMonth</th>\n",
       "      <th>AccidentMonth_en</th>\n",
       "      <th>AccidentWeekDay</th>\n",
       "      <th>AccidentWeekDay_en</th>\n",
       "      <th>AccidentHour</th>\n",
       "      <th>AccidentHour_text</th>\n",
       "      <th>_id</th>\n",
       "    </tr>\n",
       "  </thead>\n",
       "  <tbody>\n",
       "    <tr>\n",
       "      <th>0</th>\n",
       "      <td>at0</td>\n",
       "      <td>Accident with skidding or ...</td>\n",
       "      <td>as4</td>\n",
       "      <td>Accident with property damage</td>\n",
       "      <td>false</td>\n",
       "      <td>false</td>\n",
       "      <td>false</td>\n",
       "      <td>rt432</td>\n",
       "      <td>Principal road</td>\n",
       "      <td>ZH</td>\n",
       "      <td>0247</td>\n",
       "      <td>2011</td>\n",
       "      <td>1</td>\n",
       "      <td>January</td>\n",
       "      <td>aw406</td>\n",
       "      <td>Saturday</td>\n",
       "      <td>00</td>\n",
       "      <td>00h-01h</td>\n",
       "      <td>A70191D0D45E00B0E0430A8394...</td>\n",
       "    </tr>\n",
       "    <tr>\n",
       "      <th>1</th>\n",
       "      <td>at0</td>\n",
       "      <td>Accident with skidding or ...</td>\n",
       "      <td>as4</td>\n",
       "      <td>Accident with property damage</td>\n",
       "      <td>false</td>\n",
       "      <td>false</td>\n",
       "      <td>false</td>\n",
       "      <td>rt433</td>\n",
       "      <td>Minor road</td>\n",
       "      <td>ZH</td>\n",
       "      <td>0261</td>\n",
       "      <td>2011</td>\n",
       "      <td>1</td>\n",
       "      <td>January</td>\n",
       "      <td>aw406</td>\n",
       "      <td>Saturday</td>\n",
       "      <td>00</td>\n",
       "      <td>00h-01h</td>\n",
       "      <td>A2D2677533867004E0430A865E...</td>\n",
       "    </tr>\n",
       "    <tr>\n",
       "      <th>2</th>\n",
       "      <td>at0</td>\n",
       "      <td>Accident with skidding or ...</td>\n",
       "      <td>as3</td>\n",
       "      <td>Accident with light injuries</td>\n",
       "      <td>false</td>\n",
       "      <td>true</td>\n",
       "      <td>false</td>\n",
       "      <td>rt433</td>\n",
       "      <td>Minor road</td>\n",
       "      <td>ZH</td>\n",
       "      <td>0261</td>\n",
       "      <td>2011</td>\n",
       "      <td>1</td>\n",
       "      <td>January</td>\n",
       "      <td>aw406</td>\n",
       "      <td>Saturday</td>\n",
       "      <td>01</td>\n",
       "      <td>01h-02h</td>\n",
       "      <td>9FD6441F802C20A6E0430A865E...</td>\n",
       "    </tr>\n",
       "    <tr>\n",
       "      <th>3</th>\n",
       "      <td>at0</td>\n",
       "      <td>Accident with skidding or ...</td>\n",
       "      <td>as4</td>\n",
       "      <td>Accident with property damage</td>\n",
       "      <td>false</td>\n",
       "      <td>false</td>\n",
       "      <td>false</td>\n",
       "      <td>rt430</td>\n",
       "      <td>Motorway</td>\n",
       "      <td>ZH</td>\n",
       "      <td>0251</td>\n",
       "      <td>2011</td>\n",
       "      <td>1</td>\n",
       "      <td>January</td>\n",
       "      <td>aw406</td>\n",
       "      <td>Saturday</td>\n",
       "      <td>01</td>\n",
       "      <td>01h-02h</td>\n",
       "      <td>A7016B9BBC3301A8E0430A8394...</td>\n",
       "    </tr>\n",
       "    <tr>\n",
       "      <th>4</th>\n",
       "      <td>at0</td>\n",
       "      <td>Accident with skidding or ...</td>\n",
       "      <td>as4</td>\n",
       "      <td>Accident with property damage</td>\n",
       "      <td>false</td>\n",
       "      <td>false</td>\n",
       "      <td>false</td>\n",
       "      <td>rt439</td>\n",
       "      <td>Other</td>\n",
       "      <td>ZH</td>\n",
       "      <td>0261</td>\n",
       "      <td>2011</td>\n",
       "      <td>1</td>\n",
       "      <td>January</td>\n",
       "      <td>aw406</td>\n",
       "      <td>Saturday</td>\n",
       "      <td>02</td>\n",
       "      <td>02h-03h</td>\n",
       "      <td>9FDA0DC4856A6094E0430A865E...</td>\n",
       "    </tr>\n",
       "  </tbody>\n",
       "</table>\n",
       "</div>"
      ],
      "text/plain": [
       "  AccidentType                AccidentType_en AccidentSeverityCategory  \\\n",
       "0          at0  Accident with skidding or ...                      as4   \n",
       "1          at0  Accident with skidding or ...                      as4   \n",
       "2          at0  Accident with skidding or ...                      as3   \n",
       "3          at0  Accident with skidding or ...                      as4   \n",
       "4          at0  Accident with skidding or ...                      as4   \n",
       "\n",
       "     AccidentSeverityCategory_en AccidentInvolvingPedestrian  \\\n",
       "0  Accident with property damage                       false   \n",
       "1  Accident with property damage                       false   \n",
       "2   Accident with light injuries                       false   \n",
       "3  Accident with property damage                       false   \n",
       "4  Accident with property damage                       false   \n",
       "\n",
       "  AccidentInvolvingBicycle AccidentInvolvingMotorcycle RoadType  \\\n",
       "0                    false                       false    rt432   \n",
       "1                    false                       false    rt433   \n",
       "2                     true                       false    rt433   \n",
       "3                    false                       false    rt430   \n",
       "4                    false                       false    rt439   \n",
       "\n",
       "      RoadType_en CantonCode MunicipalityCode AccidentYear AccidentMonth  \\\n",
       "0  Principal road         ZH             0247         2011             1   \n",
       "1      Minor road         ZH             0261         2011             1   \n",
       "2      Minor road         ZH             0261         2011             1   \n",
       "3        Motorway         ZH             0251         2011             1   \n",
       "4           Other         ZH             0261         2011             1   \n",
       "\n",
       "  AccidentMonth_en AccidentWeekDay AccidentWeekDay_en AccidentHour  \\\n",
       "0          January           aw406           Saturday           00   \n",
       "1          January           aw406           Saturday           00   \n",
       "2          January           aw406           Saturday           01   \n",
       "3          January           aw406           Saturday           01   \n",
       "4          January           aw406           Saturday           02   \n",
       "\n",
       "  AccidentHour_text                            _id  \n",
       "0           00h-01h  A70191D0D45E00B0E0430A8394...  \n",
       "1           00h-01h  A2D2677533867004E0430A865E...  \n",
       "2           01h-02h  9FD6441F802C20A6E0430A865E...  \n",
       "3           01h-02h  A7016B9BBC3301A8E0430A8394...  \n",
       "4           02h-03h  9FDA0DC4856A6094E0430A865E...  "
      ]
     },
     "execution_count": 12,
     "metadata": {},
     "output_type": "execute_result"
    }
   ],
   "source": [
    "df.head()"
   ]
  },
  {
   "cell_type": "code",
   "execution_count": 13,
   "metadata": {},
   "outputs": [
    {
     "data": {
      "text/plain": [
       "Index(['AccidentType', 'AccidentType_en', 'AccidentSeverityCategory',\n",
       "       'AccidentSeverityCategory_en', 'AccidentInvolvingPedestrian',\n",
       "       'AccidentInvolvingBicycle', 'AccidentInvolvingMotorcycle', 'RoadType',\n",
       "       'RoadType_en', 'CantonCode', 'MunicipalityCode', 'AccidentYear',\n",
       "       'AccidentMonth', 'AccidentMonth_en', 'AccidentWeekDay',\n",
       "       'AccidentWeekDay_en', 'AccidentHour', 'AccidentHour_text', '_id'],\n",
       "      dtype='object')"
      ]
     },
     "execution_count": 13,
     "metadata": {},
     "output_type": "execute_result"
    }
   ],
   "source": [
    "df.columns"
   ]
  },
  {
   "cell_type": "markdown",
   "metadata": {},
   "source": [
    "## Municipality Information\n",
    "To get a Municipality Name to the Municipality code an .xls file has been downloaded from https://www.bfs.admin.ch/bfs/de/home/grundlagen/agvch.assetdetail.16924990.html. I then created a .csv where only the municipalities from Zurich are listed. (bfs_municipality.csv can be found in the zip)"
   ]
  },
  {
   "cell_type": "markdown",
   "metadata": {},
   "source": [
    "![GemeindenData](Images/GemeindeDatamodell.png)"
   ]
  },
  {
   "cell_type": "markdown",
   "metadata": {},
   "source": [
    "### Drop the Gemeinden Collection"
   ]
  },
  {
   "cell_type": "code",
   "execution_count": 14,
   "metadata": {},
   "outputs": [
    {
     "data": {
      "text/html": [
       "<div>\n",
       "<style scoped>\n",
       "    .dataframe tbody tr th:only-of-type {\n",
       "        vertical-align: middle;\n",
       "    }\n",
       "\n",
       "    .dataframe tbody tr th {\n",
       "        vertical-align: top;\n",
       "    }\n",
       "\n",
       "    .dataframe thead th {\n",
       "        text-align: right;\n",
       "    }\n",
       "</style>\n",
       "<table border=\"1\" class=\"dataframe\">\n",
       "  <thead>\n",
       "    <tr style=\"text-align: right;\">\n",
       "      <th></th>\n",
       "      <th>name</th>\n",
       "      <th>type</th>\n",
       "      <th>options</th>\n",
       "      <th>info</th>\n",
       "      <th>idIndex</th>\n",
       "    </tr>\n",
       "  </thead>\n",
       "  <tbody>\n",
       "    <tr>\n",
       "      <th>0</th>\n",
       "      <td>Accidents</td>\n",
       "      <td>collection</td>\n",
       "      <td>{}</td>\n",
       "      <td>{'readOnly': False, 'uuid'...</td>\n",
       "      <td>{'v': 2, 'key': {'_id': 1}...</td>\n",
       "    </tr>\n",
       "  </tbody>\n",
       "</table>\n",
       "</div>"
      ],
      "text/plain": [
       "        name        type options                           info  \\\n",
       "0  Accidents  collection      {}  {'readOnly': False, 'uuid'...   \n",
       "\n",
       "                         idIndex  \n",
       "0  {'v': 2, 'key': {'_id': 1}...  "
      ]
     },
     "execution_count": 14,
     "metadata": {},
     "output_type": "execute_result"
    }
   ],
   "source": [
    "database.gemeinden.drop()\n",
    "c = database.list_collections()\n",
    "pd.DataFrame(c)"
   ]
  },
  {
   "cell_type": "code",
   "execution_count": 15,
   "metadata": {},
   "outputs": [],
   "source": [
    "gemeinden_df = pd.read_csv('bfs_municipality.csv',sep=\";\")   # loading csv file\n",
    "\n",
    "row_dict={}\n",
    "for column in gemeinden_df:\n",
    "    row_dict[column]= []\n",
    "\n",
    "for index, row in gemeinden_df.iterrows():\n",
    "    json_row =row.to_dict()\n",
    "    #print(json_row)\n",
    "    database.gemeinden.insert_one(json_row)\n",
    "    \n",
    "    "
   ]
  },
  {
   "cell_type": "code",
   "execution_count": 16,
   "metadata": {},
   "outputs": [
    {
     "data": {
      "text/plain": [
       "Index(['GDEKT', 'GDEBZNR', 'GDENR', 'GDENAME', 'GDENAMK', 'GDEBZNA', 'GDEKTNA',\n",
       "       'GDEMUTDAT'],\n",
       "      dtype='object')"
      ]
     },
     "execution_count": 16,
     "metadata": {},
     "output_type": "execute_result"
    }
   ],
   "source": [
    "gemeinden_df.columns"
   ]
  },
  {
   "cell_type": "code",
   "execution_count": 17,
   "metadata": {},
   "outputs": [
    {
     "data": {
      "text/html": [
       "<div>\n",
       "<style scoped>\n",
       "    .dataframe tbody tr th:only-of-type {\n",
       "        vertical-align: middle;\n",
       "    }\n",
       "\n",
       "    .dataframe tbody tr th {\n",
       "        vertical-align: top;\n",
       "    }\n",
       "\n",
       "    .dataframe thead th {\n",
       "        text-align: right;\n",
       "    }\n",
       "</style>\n",
       "<table border=\"1\" class=\"dataframe\">\n",
       "  <thead>\n",
       "    <tr style=\"text-align: right;\">\n",
       "      <th></th>\n",
       "      <th>_id</th>\n",
       "      <th>GDEKT</th>\n",
       "      <th>GDEBZNR</th>\n",
       "      <th>GDENR</th>\n",
       "      <th>GDENAME</th>\n",
       "      <th>GDENAMK</th>\n",
       "      <th>GDEBZNA</th>\n",
       "      <th>GDEKTNA</th>\n",
       "      <th>GDEMUTDAT</th>\n",
       "    </tr>\n",
       "  </thead>\n",
       "  <tbody>\n",
       "    <tr>\n",
       "      <th>0</th>\n",
       "      <td>60b00be931332501ad713488</td>\n",
       "      <td>ZH</td>\n",
       "      <td>101.0</td>\n",
       "      <td>1.0</td>\n",
       "      <td>Aeugst am Albis</td>\n",
       "      <td>Aeugst am Albis</td>\n",
       "      <td>Bezirk Affoltern</td>\n",
       "      <td>Zürich</td>\n",
       "      <td>1976-11-15</td>\n",
       "    </tr>\n",
       "  </tbody>\n",
       "</table>\n",
       "</div>"
      ],
      "text/plain": [
       "                        _id GDEKT  GDEBZNR  GDENR          GDENAME  \\\n",
       "0  60b00be931332501ad713488    ZH    101.0    1.0  Aeugst am Albis   \n",
       "\n",
       "           GDENAMK           GDEBZNA GDEKTNA   GDEMUTDAT  \n",
       "0  Aeugst am Albis  Bezirk Affoltern  Zürich  1976-11-15  "
      ]
     },
     "execution_count": 17,
     "metadata": {},
     "output_type": "execute_result"
    }
   ],
   "source": [
    "c=database.gemeinden.aggregate([\n",
    "      {\"$limit\": 1},\n",
    "])\n",
    "\n",
    "pd.DataFrame(c)"
   ]
  },
  {
   "cell_type": "markdown",
   "metadata": {},
   "source": [
    "## Convert Municipality Code to Int"
   ]
  },
  {
   "cell_type": "code",
   "execution_count": 18,
   "metadata": {},
   "outputs": [],
   "source": [
    "priceQtyConversionStage = {\n",
    "   '$addFields': {\n",
    "      'IntMunicipalityCode': { \"$toInt\": \"$MunicipalityCode\" },\n",
    "   }\n",
    "}\n",
    "\n",
    "c=database.Accidents.aggregate( [\n",
    "   priceQtyConversionStage,\n",
    "])\n",
    "e=pd.DataFrame(c)\n"
   ]
  },
  {
   "cell_type": "code",
   "execution_count": 19,
   "metadata": {},
   "outputs": [
    {
     "data": {
      "text/html": [
       "<div>\n",
       "<style scoped>\n",
       "    .dataframe tbody tr th:only-of-type {\n",
       "        vertical-align: middle;\n",
       "    }\n",
       "\n",
       "    .dataframe tbody tr th {\n",
       "        vertical-align: top;\n",
       "    }\n",
       "\n",
       "    .dataframe thead th {\n",
       "        text-align: right;\n",
       "    }\n",
       "</style>\n",
       "<table border=\"1\" class=\"dataframe\">\n",
       "  <thead>\n",
       "    <tr style=\"text-align: right;\">\n",
       "      <th></th>\n",
       "      <th>_id</th>\n",
       "      <th>AccidentUID</th>\n",
       "      <th>AccidentType</th>\n",
       "      <th>AccidentType_de</th>\n",
       "      <th>AccidentType_fr</th>\n",
       "      <th>AccidentType_it</th>\n",
       "      <th>AccidentType_en</th>\n",
       "      <th>AccidentSeverityCategory</th>\n",
       "      <th>AccidentSeverityCategory_de</th>\n",
       "      <th>AccidentSeverityCategory_fr</th>\n",
       "      <th>AccidentSeverityCategory_it</th>\n",
       "      <th>AccidentSeverityCategory_en</th>\n",
       "      <th>AccidentInvolvingPedestrian</th>\n",
       "      <th>AccidentInvolvingBicycle</th>\n",
       "      <th>AccidentInvolvingMotorcycle</th>\n",
       "      <th>RoadType</th>\n",
       "      <th>RoadType_de</th>\n",
       "      <th>RoadType_fr</th>\n",
       "      <th>RoadType_it</th>\n",
       "      <th>RoadType_en</th>\n",
       "      <th>AccidentLocation_CHLV95_E</th>\n",
       "      <th>AccidentLocation_CHLV95_N</th>\n",
       "      <th>CantonCode</th>\n",
       "      <th>MunicipalityCode</th>\n",
       "      <th>AccidentYear</th>\n",
       "      <th>AccidentMonth</th>\n",
       "      <th>AccidentMonth_de</th>\n",
       "      <th>AccidentMonth_fr</th>\n",
       "      <th>AccidentMonth_it</th>\n",
       "      <th>AccidentMonth_en</th>\n",
       "      <th>AccidentWeekDay</th>\n",
       "      <th>AccidentWeekDay_de</th>\n",
       "      <th>AccidentWeekDay_fr</th>\n",
       "      <th>AccidentWeekDay_it</th>\n",
       "      <th>AccidentWeekDay_en</th>\n",
       "      <th>AccidentHour</th>\n",
       "      <th>AccidentHour_text</th>\n",
       "      <th>IntMunicipalityCode</th>\n",
       "    </tr>\n",
       "  </thead>\n",
       "  <tbody>\n",
       "    <tr>\n",
       "      <th>0</th>\n",
       "      <td>60afc7769ddbd12dc82a1da1</td>\n",
       "      <td>A70191D0D45E00B0E0430A8394...</td>\n",
       "      <td>at0</td>\n",
       "      <td>Schleuder- oder Selbstunfall</td>\n",
       "      <td>dérapage ou perte de maîtrise</td>\n",
       "      <td>Incidente di sbandamento o...</td>\n",
       "      <td>Accident with skidding or ...</td>\n",
       "      <td>as4</td>\n",
       "      <td>Unfall mit Sachschaden</td>\n",
       "      <td>accident avec dommages mat...</td>\n",
       "      <td>Incidente con danni materiali</td>\n",
       "      <td>Accident with property damage</td>\n",
       "      <td>false</td>\n",
       "      <td>false</td>\n",
       "      <td>false</td>\n",
       "      <td>rt432</td>\n",
       "      <td>Hauptstrasse</td>\n",
       "      <td>route principale</td>\n",
       "      <td>Strada principale</td>\n",
       "      <td>Principal road</td>\n",
       "      <td>2676380</td>\n",
       "      <td>1250175</td>\n",
       "      <td>ZH</td>\n",
       "      <td>0247</td>\n",
       "      <td>2011</td>\n",
       "      <td>1</td>\n",
       "      <td>Januar</td>\n",
       "      <td>janvier</td>\n",
       "      <td>Gennaio</td>\n",
       "      <td>January</td>\n",
       "      <td>aw406</td>\n",
       "      <td>Samstag</td>\n",
       "      <td>samedi</td>\n",
       "      <td>Sabato</td>\n",
       "      <td>Saturday</td>\n",
       "      <td>00</td>\n",
       "      <td>00h-01h</td>\n",
       "      <td>247</td>\n",
       "    </tr>\n",
       "    <tr>\n",
       "      <th>1</th>\n",
       "      <td>60afc7769ddbd12dc82a1da2</td>\n",
       "      <td>A2D2677533867004E0430A865E...</td>\n",
       "      <td>at0</td>\n",
       "      <td>Schleuder- oder Selbstunfall</td>\n",
       "      <td>dérapage ou perte de maîtrise</td>\n",
       "      <td>Incidente di sbandamento o...</td>\n",
       "      <td>Accident with skidding or ...</td>\n",
       "      <td>as4</td>\n",
       "      <td>Unfall mit Sachschaden</td>\n",
       "      <td>accident avec dommages mat...</td>\n",
       "      <td>Incidente con danni materiali</td>\n",
       "      <td>Accident with property damage</td>\n",
       "      <td>false</td>\n",
       "      <td>false</td>\n",
       "      <td>false</td>\n",
       "      <td>rt433</td>\n",
       "      <td>Nebenstrasse</td>\n",
       "      <td>route secondaire</td>\n",
       "      <td>Strada secondaria</td>\n",
       "      <td>Minor road</td>\n",
       "      <td>2684605</td>\n",
       "      <td>1245194</td>\n",
       "      <td>ZH</td>\n",
       "      <td>0261</td>\n",
       "      <td>2011</td>\n",
       "      <td>1</td>\n",
       "      <td>Januar</td>\n",
       "      <td>janvier</td>\n",
       "      <td>Gennaio</td>\n",
       "      <td>January</td>\n",
       "      <td>aw406</td>\n",
       "      <td>Samstag</td>\n",
       "      <td>samedi</td>\n",
       "      <td>Sabato</td>\n",
       "      <td>Saturday</td>\n",
       "      <td>00</td>\n",
       "      <td>00h-01h</td>\n",
       "      <td>261</td>\n",
       "    </tr>\n",
       "    <tr>\n",
       "      <th>2</th>\n",
       "      <td>60afc7769ddbd12dc82a1da3</td>\n",
       "      <td>9FD6441F802C20A6E0430A865E...</td>\n",
       "      <td>at0</td>\n",
       "      <td>Schleuder- oder Selbstunfall</td>\n",
       "      <td>dérapage ou perte de maîtrise</td>\n",
       "      <td>Incidente di sbandamento o...</td>\n",
       "      <td>Accident with skidding or ...</td>\n",
       "      <td>as3</td>\n",
       "      <td>Unfall mit Leichtverletzten</td>\n",
       "      <td>accident avec blessés légers</td>\n",
       "      <td>Incidente con feriti leggeri</td>\n",
       "      <td>Accident with light injuries</td>\n",
       "      <td>false</td>\n",
       "      <td>true</td>\n",
       "      <td>false</td>\n",
       "      <td>rt433</td>\n",
       "      <td>Nebenstrasse</td>\n",
       "      <td>route secondaire</td>\n",
       "      <td>Strada secondaria</td>\n",
       "      <td>Minor road</td>\n",
       "      <td>2682382</td>\n",
       "      <td>1246980</td>\n",
       "      <td>ZH</td>\n",
       "      <td>0261</td>\n",
       "      <td>2011</td>\n",
       "      <td>1</td>\n",
       "      <td>Januar</td>\n",
       "      <td>janvier</td>\n",
       "      <td>Gennaio</td>\n",
       "      <td>January</td>\n",
       "      <td>aw406</td>\n",
       "      <td>Samstag</td>\n",
       "      <td>samedi</td>\n",
       "      <td>Sabato</td>\n",
       "      <td>Saturday</td>\n",
       "      <td>01</td>\n",
       "      <td>01h-02h</td>\n",
       "      <td>261</td>\n",
       "    </tr>\n",
       "    <tr>\n",
       "      <th>3</th>\n",
       "      <td>60afc7769ddbd12dc82a1da4</td>\n",
       "      <td>A7016B9BBC3301A8E0430A8394...</td>\n",
       "      <td>at0</td>\n",
       "      <td>Schleuder- oder Selbstunfall</td>\n",
       "      <td>dérapage ou perte de maîtrise</td>\n",
       "      <td>Incidente di sbandamento o...</td>\n",
       "      <td>Accident with skidding or ...</td>\n",
       "      <td>as4</td>\n",
       "      <td>Unfall mit Sachschaden</td>\n",
       "      <td>accident avec dommages mat...</td>\n",
       "      <td>Incidente con danni materiali</td>\n",
       "      <td>Accident with property damage</td>\n",
       "      <td>false</td>\n",
       "      <td>false</td>\n",
       "      <td>false</td>\n",
       "      <td>rt430</td>\n",
       "      <td>Autobahn</td>\n",
       "      <td>autoroute</td>\n",
       "      <td>Autostrada</td>\n",
       "      <td>Motorway</td>\n",
       "      <td>2674666</td>\n",
       "      <td>1251733</td>\n",
       "      <td>ZH</td>\n",
       "      <td>0251</td>\n",
       "      <td>2011</td>\n",
       "      <td>1</td>\n",
       "      <td>Januar</td>\n",
       "      <td>janvier</td>\n",
       "      <td>Gennaio</td>\n",
       "      <td>January</td>\n",
       "      <td>aw406</td>\n",
       "      <td>Samstag</td>\n",
       "      <td>samedi</td>\n",
       "      <td>Sabato</td>\n",
       "      <td>Saturday</td>\n",
       "      <td>01</td>\n",
       "      <td>01h-02h</td>\n",
       "      <td>251</td>\n",
       "    </tr>\n",
       "    <tr>\n",
       "      <th>4</th>\n",
       "      <td>60afc7769ddbd12dc82a1da5</td>\n",
       "      <td>9FDA0DC4856A6094E0430A865E...</td>\n",
       "      <td>at0</td>\n",
       "      <td>Schleuder- oder Selbstunfall</td>\n",
       "      <td>dérapage ou perte de maîtrise</td>\n",
       "      <td>Incidente di sbandamento o...</td>\n",
       "      <td>Accident with skidding or ...</td>\n",
       "      <td>as4</td>\n",
       "      <td>Unfall mit Sachschaden</td>\n",
       "      <td>accident avec dommages mat...</td>\n",
       "      <td>Incidente con danni materiali</td>\n",
       "      <td>Accident with property damage</td>\n",
       "      <td>false</td>\n",
       "      <td>false</td>\n",
       "      <td>false</td>\n",
       "      <td>rt439</td>\n",
       "      <td>andere</td>\n",
       "      <td>autre</td>\n",
       "      <td>Altro</td>\n",
       "      <td>Other</td>\n",
       "      <td>2682791</td>\n",
       "      <td>1247749</td>\n",
       "      <td>ZH</td>\n",
       "      <td>0261</td>\n",
       "      <td>2011</td>\n",
       "      <td>1</td>\n",
       "      <td>Januar</td>\n",
       "      <td>janvier</td>\n",
       "      <td>Gennaio</td>\n",
       "      <td>January</td>\n",
       "      <td>aw406</td>\n",
       "      <td>Samstag</td>\n",
       "      <td>samedi</td>\n",
       "      <td>Sabato</td>\n",
       "      <td>Saturday</td>\n",
       "      <td>02</td>\n",
       "      <td>02h-03h</td>\n",
       "      <td>261</td>\n",
       "    </tr>\n",
       "  </tbody>\n",
       "</table>\n",
       "</div>"
      ],
      "text/plain": [
       "                        _id                    AccidentUID AccidentType  \\\n",
       "0  60afc7769ddbd12dc82a1da1  A70191D0D45E00B0E0430A8394...          at0   \n",
       "1  60afc7769ddbd12dc82a1da2  A2D2677533867004E0430A865E...          at0   \n",
       "2  60afc7769ddbd12dc82a1da3  9FD6441F802C20A6E0430A865E...          at0   \n",
       "3  60afc7769ddbd12dc82a1da4  A7016B9BBC3301A8E0430A8394...          at0   \n",
       "4  60afc7769ddbd12dc82a1da5  9FDA0DC4856A6094E0430A865E...          at0   \n",
       "\n",
       "                AccidentType_de                AccidentType_fr  \\\n",
       "0  Schleuder- oder Selbstunfall  dérapage ou perte de maîtrise   \n",
       "1  Schleuder- oder Selbstunfall  dérapage ou perte de maîtrise   \n",
       "2  Schleuder- oder Selbstunfall  dérapage ou perte de maîtrise   \n",
       "3  Schleuder- oder Selbstunfall  dérapage ou perte de maîtrise   \n",
       "4  Schleuder- oder Selbstunfall  dérapage ou perte de maîtrise   \n",
       "\n",
       "                 AccidentType_it                AccidentType_en  \\\n",
       "0  Incidente di sbandamento o...  Accident with skidding or ...   \n",
       "1  Incidente di sbandamento o...  Accident with skidding or ...   \n",
       "2  Incidente di sbandamento o...  Accident with skidding or ...   \n",
       "3  Incidente di sbandamento o...  Accident with skidding or ...   \n",
       "4  Incidente di sbandamento o...  Accident with skidding or ...   \n",
       "\n",
       "  AccidentSeverityCategory  AccidentSeverityCategory_de  \\\n",
       "0                      as4       Unfall mit Sachschaden   \n",
       "1                      as4       Unfall mit Sachschaden   \n",
       "2                      as3  Unfall mit Leichtverletzten   \n",
       "3                      as4       Unfall mit Sachschaden   \n",
       "4                      as4       Unfall mit Sachschaden   \n",
       "\n",
       "     AccidentSeverityCategory_fr    AccidentSeverityCategory_it  \\\n",
       "0  accident avec dommages mat...  Incidente con danni materiali   \n",
       "1  accident avec dommages mat...  Incidente con danni materiali   \n",
       "2   accident avec blessés légers   Incidente con feriti leggeri   \n",
       "3  accident avec dommages mat...  Incidente con danni materiali   \n",
       "4  accident avec dommages mat...  Incidente con danni materiali   \n",
       "\n",
       "     AccidentSeverityCategory_en AccidentInvolvingPedestrian  \\\n",
       "0  Accident with property damage                       false   \n",
       "1  Accident with property damage                       false   \n",
       "2   Accident with light injuries                       false   \n",
       "3  Accident with property damage                       false   \n",
       "4  Accident with property damage                       false   \n",
       "\n",
       "  AccidentInvolvingBicycle AccidentInvolvingMotorcycle RoadType   RoadType_de  \\\n",
       "0                    false                       false    rt432  Hauptstrasse   \n",
       "1                    false                       false    rt433  Nebenstrasse   \n",
       "2                     true                       false    rt433  Nebenstrasse   \n",
       "3                    false                       false    rt430      Autobahn   \n",
       "4                    false                       false    rt439        andere   \n",
       "\n",
       "        RoadType_fr        RoadType_it     RoadType_en  \\\n",
       "0  route principale  Strada principale  Principal road   \n",
       "1  route secondaire  Strada secondaria      Minor road   \n",
       "2  route secondaire  Strada secondaria      Minor road   \n",
       "3         autoroute         Autostrada        Motorway   \n",
       "4             autre              Altro           Other   \n",
       "\n",
       "  AccidentLocation_CHLV95_E AccidentLocation_CHLV95_N CantonCode  \\\n",
       "0                   2676380                   1250175         ZH   \n",
       "1                   2684605                   1245194         ZH   \n",
       "2                   2682382                   1246980         ZH   \n",
       "3                   2674666                   1251733         ZH   \n",
       "4                   2682791                   1247749         ZH   \n",
       "\n",
       "  MunicipalityCode AccidentYear AccidentMonth AccidentMonth_de  \\\n",
       "0             0247         2011             1           Januar   \n",
       "1             0261         2011             1           Januar   \n",
       "2             0261         2011             1           Januar   \n",
       "3             0251         2011             1           Januar   \n",
       "4             0261         2011             1           Januar   \n",
       "\n",
       "  AccidentMonth_fr AccidentMonth_it AccidentMonth_en AccidentWeekDay  \\\n",
       "0          janvier          Gennaio          January           aw406   \n",
       "1          janvier          Gennaio          January           aw406   \n",
       "2          janvier          Gennaio          January           aw406   \n",
       "3          janvier          Gennaio          January           aw406   \n",
       "4          janvier          Gennaio          January           aw406   \n",
       "\n",
       "  AccidentWeekDay_de AccidentWeekDay_fr AccidentWeekDay_it AccidentWeekDay_en  \\\n",
       "0            Samstag             samedi             Sabato           Saturday   \n",
       "1            Samstag             samedi             Sabato           Saturday   \n",
       "2            Samstag             samedi             Sabato           Saturday   \n",
       "3            Samstag             samedi             Sabato           Saturday   \n",
       "4            Samstag             samedi             Sabato           Saturday   \n",
       "\n",
       "  AccidentHour AccidentHour_text  IntMunicipalityCode  \n",
       "0           00           00h-01h                  247  \n",
       "1           00           00h-01h                  261  \n",
       "2           01           01h-02h                  261  \n",
       "3           01           01h-02h                  251  \n",
       "4           02           02h-03h                  261  "
      ]
     },
     "execution_count": 19,
     "metadata": {},
     "output_type": "execute_result"
    }
   ],
   "source": [
    "e.head()"
   ]
  },
  {
   "cell_type": "markdown",
   "metadata": {},
   "source": [
    "# Data Analysis"
   ]
  },
  {
   "cell_type": "markdown",
   "metadata": {},
   "source": [
    "## Categories"
   ]
  },
  {
   "cell_type": "code",
   "execution_count": 20,
   "metadata": {},
   "outputs": [
    {
     "name": "stdout",
     "output_type": "stream",
     "text": [
      "                             _id   count\n",
      "0   Accident with light injuries   26208\n",
      "1  Accident with property damage  115793\n",
      "2       Accident with fatalities     286\n",
      "3  Accident with severe injuries    5684\n"
     ]
    }
   ],
   "source": [
    "c = database.Accidents.aggregate([\n",
    "    {\"$project\": {'AccidentType':0,  'AccidentSeverityCategory':0, 'AccidentInvolvingPedestrian':0,\n",
    "       'AccidentInvolvingBicycle':0, 'AccidentInvolvingMotorcycle':0, 'RoadType':0,\n",
    "       'RoadType_en':0, 'CantonCode':0, 'MunicipalityCode':0, 'AccidentYear':0,\n",
    "       'AccidentMonth':0, 'AccidentMonth_en':0, 'AccidentWeekDay':0,\n",
    "       'AccidentWeekDay_en':0, 'AccidentHour':0, 'AccidentHour_text':0}},\n",
    "    {\"$unwind\": \"$AccidentSeverityCategory_en\"},\n",
    "    {\"$group\": {\"_id\": \"$AccidentSeverityCategory_en\", \"count\": {\"$sum\": 1}}},\n",
    " ])\n",
    "\n",
    "df = pd.DataFrame(c)\n",
    "print(df)"
   ]
  },
  {
   "cell_type": "markdown",
   "metadata": {},
   "source": [
    "Eventhoug there are alot of accidents in the canton of Zürich, there are gladly almost no accidents with fatalities.  "
   ]
  },
  {
   "cell_type": "code",
   "execution_count": 21,
   "metadata": {},
   "outputs": [
    {
     "data": {
      "image/png": "[encoded data removed]",
      "text/plain": [
       "<Figure size 1440x720 with 1 Axes>"
      ]
     },
     "metadata": {
      "needs_background": "light"
     },
     "output_type": "display_data"
    }
   ],
   "source": [
    "labels = df[\"_id\"]\n",
    "\n",
    "width = 0.35       # the width of the bars: can also be len(x) sequence\n",
    "fig, ax = plt.subplots()\n",
    "\n",
    "ax.bar(labels, df[\"count\"], width, label='Accidents')\n",
    "\n",
    "ax.set_ylabel('Total Number of Accidents')\n",
    "ax.set_title('Total Number of Accidents per Accident Severity Category')\n",
    "ax.legend()\n",
    "\n",
    "plt.show()"
   ]
  },
  {
   "cell_type": "code",
   "execution_count": 22,
   "metadata": {},
   "outputs": [
    {
     "name": "stdout",
     "output_type": "stream",
     "text": [
      "                              _id  count\n",
      "0                           Other   1755\n",
      "1   Accident involving pedestr...   4849\n",
      "2   Accident when turning-into...  10486\n",
      "3   Accident when turning left...   6295\n",
      "4   Accident with skidding or ...  49019\n",
      "5           Accident when parking  25583\n",
      "6   Accident with rear-end col...  29513\n",
      "7    Accident involving animal(s)   2642\n",
      "8   Accident when overtaking o...  11830\n",
      "9   Accident when crossing the...   4159\n",
      "10  Accident with head-on coll...   1840\n"
     ]
    }
   ],
   "source": [
    "c = database.Accidents.aggregate([\n",
    "    {\"$project\": {'AccidentType':0,  'AccidentSeverityCategory':0, 'AccidentInvolvingPedestrian':0,\n",
    "       'AccidentInvolvingBicycle':0, 'AccidentInvolvingMotorcycle':0, 'RoadType':0,\n",
    "       'RoadType_en':0, 'CantonCode':0, 'MunicipalityCode':0, 'AccidentYear':0,\n",
    "       'AccidentMonth':0, 'AccidentMonth_en':0, 'AccidentWeekDay':0,\n",
    "       'AccidentWeekDay_en':0, 'AccidentHour':0, 'AccidentHour_text':0}},\n",
    "    {\"$unwind\": \"$AccidentType_en\"},\n",
    "    {\"$group\": {\"_id\": \"$AccidentType_en\", \"count\": {\"$sum\": 1}}},\n",
    " ])\n",
    "\n",
    "df = pd.DataFrame(c)\n",
    "print(df)"
   ]
  },
  {
   "cell_type": "code",
   "execution_count": 23,
   "metadata": {},
   "outputs": [
    {
     "name": "stderr",
     "output_type": "stream",
     "text": [
      "<ipython-input-23-25c4e054aff2>:8: UserWarning: FixedFormatter should only be used together with FixedLocator\n",
      "  ax.set_xticklabels(labels, rotation = 90)\n"
     ]
    },
    {
     "data": {
      "image/png": "[encoded data removed]",
      "text/plain": [
       "<Figure size 1440x720 with 1 Axes>"
      ]
     },
     "metadata": {
      "needs_background": "light"
     },
     "output_type": "display_data"
    }
   ],
   "source": [
    "labels = df[\"_id\"]\n",
    "\n",
    "width = 0.35       # the width of the bars: can also be len(x) sequence\n",
    "fig, ax = plt.subplots()\n",
    "\n",
    "ax.bar(labels, df[\"count\"], width, label='Accidents')\n",
    "#plt.xticks(rotation = 45) \n",
    "ax.set_xticklabels(labels, rotation = 90)\n",
    "ax.set_ylabel('Total Number of Accidents')\n",
    "ax.set_title('Total Number of Accidents per Accident Severity Category')\n",
    "ax.legend()\n",
    "\n",
    "plt.show()"
   ]
  },
  {
   "cell_type": "markdown",
   "metadata": {},
   "source": [
    "It is interesting to see, that most accidents are skiddin or self accidents. The next biggest accident type is accidents with rear-end collisions.  We can see, that a lot of accidents could be prevented if drivers would be more attentive."
   ]
  },
  {
   "cell_type": "code",
   "execution_count": 24,
   "metadata": {},
   "outputs": [],
   "source": [
    "c = database.Accidents.aggregate([\n",
    "    {\"$project\": {'AccidentType':0,  'AccidentSeverityCategory':0, 'AccidentInvolvingPedestrian':0,\n",
    "       'AccidentInvolvingBicycle':0, 'AccidentInvolvingMotorcycle':0, 'RoadType':0,\n",
    "       'RoadType_en':0, 'AccidentYear':0,\n",
    "       'AccidentMonth':0, 'AccidentMonth_en':0, 'AccidentWeekDay':0,\n",
    "       'AccidentWeekDay_en':0, 'AccidentHour':0, 'AccidentHour_text':0}},\n",
    "    {\"$unwind\": \"$MunicipalityCode\"},\n",
    "    {\"$group\": {\"_id\": \"$MunicipalityCode\", \"count\": {\"$sum\": 1}}},\n",
    " ])\n",
    "\n",
    "df = pd.DataFrame(c)\n"
   ]
  },
  {
   "cell_type": "code",
   "execution_count": 25,
   "metadata": {},
   "outputs": [
    {
     "data": {
      "text/html": [
       "<div>\n",
       "<style scoped>\n",
       "    .dataframe tbody tr th:only-of-type {\n",
       "        vertical-align: middle;\n",
       "    }\n",
       "\n",
       "    .dataframe tbody tr th {\n",
       "        vertical-align: top;\n",
       "    }\n",
       "\n",
       "    .dataframe thead th {\n",
       "        text-align: right;\n",
       "    }\n",
       "</style>\n",
       "<table border=\"1\" class=\"dataframe\">\n",
       "  <thead>\n",
       "    <tr style=\"text-align: right;\">\n",
       "      <th></th>\n",
       "      <th>_id</th>\n",
       "      <th>count</th>\n",
       "    </tr>\n",
       "  </thead>\n",
       "  <tbody>\n",
       "    <tr>\n",
       "      <th>0</th>\n",
       "      <td>0112</td>\n",
       "      <td>445</td>\n",
       "    </tr>\n",
       "    <tr>\n",
       "      <th>1</th>\n",
       "      <td>0031</td>\n",
       "      <td>213</td>\n",
       "    </tr>\n",
       "    <tr>\n",
       "      <th>2</th>\n",
       "      <td>0072</td>\n",
       "      <td>315</td>\n",
       "    </tr>\n",
       "    <tr>\n",
       "      <th>3</th>\n",
       "      <td>0037</td>\n",
       "      <td>98</td>\n",
       "    </tr>\n",
       "    <tr>\n",
       "      <th>4</th>\n",
       "      <td>0248</td>\n",
       "      <td>187</td>\n",
       "    </tr>\n",
       "  </tbody>\n",
       "</table>\n",
       "</div>"
      ],
      "text/plain": [
       "    _id  count\n",
       "0  0112    445\n",
       "1  0031    213\n",
       "2  0072    315\n",
       "3  0037     98\n",
       "4  0248    187"
      ]
     },
     "execution_count": 25,
     "metadata": {},
     "output_type": "execute_result"
    }
   ],
   "source": [
    "df.head()"
   ]
  },
  {
   "cell_type": "markdown",
   "metadata": {},
   "source": [
    "Unfortunately I was not able to merge the two collections on the MunicipalyCode. In a future project it would be very interesting to analyse in more detail, in which municipalities the most accidents happen.\n",
    "\n",
    "The figure below shows one municipality standing out. I believe that this is the city of Zürich."
   ]
  },
  {
   "cell_type": "code",
   "execution_count": 26,
   "metadata": {},
   "outputs": [
    {
     "name": "stderr",
     "output_type": "stream",
     "text": [
      "<ipython-input-26-d09722fe2115>:8: UserWarning: FixedFormatter should only be used together with FixedLocator\n",
      "  ax.set_xticklabels(labels, rotation = 90)\n"
     ]
    },
    {
     "data": {
      "image/png": "[encoded data removed]",
      "text/plain": [
       "<Figure size 1440x720 with 1 Axes>"
      ]
     },
     "metadata": {
      "needs_background": "light"
     },
     "output_type": "display_data"
    }
   ],
   "source": [
    "labels = df[\"_id\"]\n",
    "\n",
    "width = 0.39       # the width of the bars: can also be len(x) sequence\n",
    "fig, ax = plt.subplots()\n",
    "\n",
    "ax.bar(labels, df[\"count\"], width, label='Accidents')\n",
    "#plt.xticks(rotation = 45) \n",
    "ax.set_xticklabels(labels, rotation = 90)\n",
    "ax.set_ylabel('Total Number of Accidents')\n",
    "ax.set_title('Total Number of Accidents per Accident Severity Category')\n",
    "ax.legend()\n",
    "\n",
    "plt.show()"
   ]
  },
  {
   "cell_type": "markdown",
   "metadata": {},
   "source": [
    "# Conclusion\n",
    "\n",
    "MongoDB, the most popular NoSQL database, is a relative newcomer in the database industry. It's an excellent tool for creating data warehouses, because because of its ability to fully exploit so-called \"shared-nothing cluster architecture.\" Because it is an open-source database, it is perfect for creating high-performance data warehouses.\n",
    "\n",
    "This semester project served as an excellent introduction to MongoDB. It needs some time to get used to the syntax. However, one rapidly grows used to it.\n",
    "\n"
   ]
  }
 ],
 "metadata": {
  "kernelspec": {
   "display_name": "Python 3",
   "language": "python",
   "name": "python3"
  },
  "language_info": {
   "codemirror_mode": {
    "name": "ipython",
    "version": 3
   },
   "file_extension": ".py",
   "mimetype": "text/x-python",
   "name": "python",
   "nbconvert_exporter": "python",
   "pygments_lexer": "ipython3",
   "version": "3.8.8"
  }
 },
 "nbformat": 4,
 "nbformat_minor": 4
}
