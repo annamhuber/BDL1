{
 "cells": [
  {
   "cell_type": "markdown",
   "metadata": {},
   "source": [
    "## SQL - MariaDB"
   ]
  },
  {
   "cell_type": "markdown",
   "metadata": {},
   "source": [
    "### Packages "
   ]
  },
  {
   "cell_type": "code",
   "execution_count": 1,
   "metadata": {},
   "outputs": [
    {
     "name": "stdout",
     "output_type": "stream",
     "text": [
      "/home/edu-001/venv/bdl03-1-jpy-3.8\n",
      "Requirement already up-to-date: pymysql in /home/edu-001/venv/bdl03-1-jpy-3.8/lib/python3.8/site-packages (1.0.2)\n",
      "Requirement already up-to-date: pandas in /home/edu-001/venv/bdl03-1-jpy-3.8/lib/python3.8/site-packages (1.2.3)\n",
      "Requirement already satisfied, skipping upgrade: numpy>=1.16.5 in /home/edu-001/venv/bdl03-1-jpy-3.8/lib/python3.8/site-packages (from pandas) (1.20.1)\n",
      "Requirement already satisfied, skipping upgrade: python-dateutil>=2.7.3 in /home/edu-001/venv/bdl03-1-jpy-3.8/lib/python3.8/site-packages (from pandas) (2.8.1)\n",
      "Requirement already satisfied, skipping upgrade: pytz>=2017.3 in /home/edu-001/venv/bdl03-1-jpy-3.8/lib/python3.8/site-packages (from pandas) (2021.1)\n",
      "Requirement already satisfied, skipping upgrade: six>=1.5 in /home/edu-001/venv/bdl03-1-jpy-3.8/lib/python3.8/site-packages (from python-dateutil>=2.7.3->pandas) (1.15.0)\n",
      "Requirement already up-to-date: sqlalchemy in /home/edu-001/venv/bdl03-1-jpy-3.8/lib/python3.8/site-packages (1.3.23)\n"
     ]
    }
   ],
   "source": [
    "%%bash\n",
    "echo $VIRTUAL_ENV\n",
    "pip3 install --upgrade --upgrade-strategy only-if-needed pymysql\n",
    "pip3 install --upgrade --upgrade-strategy only-if-needed pandas\n",
    "pip3 install --upgrade --upgrade-strategy only-if-needed sqlalchemy\n",
    "# pip3 list | wc -l"
   ]
  },
  {
   "cell_type": "markdown",
   "metadata": {},
   "source": [
    "### Global configuration"
   ]
  },
  {
   "cell_type": "code",
   "execution_count": 2,
   "metadata": {},
   "outputs": [],
   "source": [
    "HOST_SQL = 'localhost'\n",
    "PORT_SQL = 3306\n",
    "USER_SQL = \"myAdmin\"\n",
    "PASS_SQL = \"myAdmin\""
   ]
  },
  {
   "cell_type": "markdown",
   "metadata": {},
   "source": [
    "### pymysql\n",
    "#### shared code"
   ]
  },
  {
   "cell_type": "code",
   "execution_count": 3,
   "metadata": {},
   "outputs": [],
   "source": [
    "import pymysql as mariadb\n",
    "\n",
    "def create_connection_sql(\n",
    "        host=HOST_SQL,\n",
    "        port=PORT_SQL,\n",
    "        database=None,\n",
    "        user=USER_SQL,\n",
    "        password=PASS_SQL):\n",
    "    \"\"\" create a database connection to the MariaDB database\n",
    "        specified by the params\n",
    "    :param host: the hostname or IP\n",
    "    :param database: name of the database\n",
    "    :param user: username\n",
    "    :param password: password\n",
    "    :return: connection object or None\n",
    "    \"\"\"\n",
    "    conn = None\n",
    "    try:\n",
    "        conn = mariadb.connect(\n",
    "            host=host, database=database,\n",
    "            user=user, password=password)\n",
    "    except mariadb.Error as e:\n",
    "        print(e)\n",
    "\n",
    "    return conn\n",
    "\n",
    "def iter_row(cursor, size=10):\n",
    "    while True:\n",
    "        rows = cursor.fetchmany(size)\n",
    "        if not rows:\n",
    "            break\n",
    "        for row in rows:\n",
    "            yield row\n",
    "\n",
    "sql_conn = create_connection_sql(database=\"Chinook\")\n"
   ]
  },
  {
   "cell_type": "markdown",
   "metadata": {},
   "source": [
    "#### Just print"
   ]
  },
  {
   "cell_type": "code",
   "execution_count": 4,
   "metadata": {},
   "outputs": [
    {
     "name": "stdout",
     "output_type": "stream",
     "text": [
      "('USA', 13)\n",
      "('Canada', 8)\n",
      "('France', 5)\n",
      "('Brazil', 5)\n",
      "('Germany', 4)\n",
      "('United Kingdom', 3)\n"
     ]
    }
   ],
   "source": [
    "sql = \"\"\"\n",
    "SELECT Country, COUNT(Country) AS cnt\n",
    "  FROM Customer\n",
    "  GROUP BY Country\n",
    "  HAVING cnt >= 3\n",
    "  ORDER BY COUNT(Country) DESC\n",
    "    \"\"\"\n",
    "\n",
    "cursor = sql_conn.cursor()\n",
    "cursor.execute(sql)\n",
    "\n",
    "for row in iter_row(cursor, 10):\n",
    "    print(row)\n",
    "\n",
    "cursor.close()"
   ]
  },
  {
   "cell_type": "markdown",
   "metadata": {},
   "source": [
    "#### Pandas"
   ]
  },
  {
   "cell_type": "code",
   "execution_count": 5,
   "metadata": {
    "scrolled": false
   },
   "outputs": [
    {
     "data": {
      "text/html": [
       "<div>\n",
       "<style scoped>\n",
       "    .dataframe tbody tr th:only-of-type {\n",
       "        vertical-align: middle;\n",
       "    }\n",
       "\n",
       "    .dataframe tbody tr th {\n",
       "        vertical-align: top;\n",
       "    }\n",
       "\n",
       "    .dataframe thead th {\n",
       "        text-align: right;\n",
       "    }\n",
       "</style>\n",
       "<table border=\"1\" class=\"dataframe\">\n",
       "  <thead>\n",
       "    <tr style=\"text-align: right;\">\n",
       "      <th></th>\n",
       "      <th>Country</th>\n",
       "      <th>cnt</th>\n",
       "    </tr>\n",
       "  </thead>\n",
       "  <tbody>\n",
       "    <tr>\n",
       "      <th>0</th>\n",
       "      <td>USA</td>\n",
       "      <td>13</td>\n",
       "    </tr>\n",
       "    <tr>\n",
       "      <th>1</th>\n",
       "      <td>Canada</td>\n",
       "      <td>8</td>\n",
       "    </tr>\n",
       "    <tr>\n",
       "      <th>2</th>\n",
       "      <td>France</td>\n",
       "      <td>5</td>\n",
       "    </tr>\n",
       "    <tr>\n",
       "      <th>3</th>\n",
       "      <td>Brazil</td>\n",
       "      <td>5</td>\n",
       "    </tr>\n",
       "    <tr>\n",
       "      <th>4</th>\n",
       "      <td>Germany</td>\n",
       "      <td>4</td>\n",
       "    </tr>\n",
       "    <tr>\n",
       "      <th>5</th>\n",
       "      <td>United Kingdom</td>\n",
       "      <td>3</td>\n",
       "    </tr>\n",
       "  </tbody>\n",
       "</table>\n",
       "</div>"
      ],
      "text/plain": [
       "          Country  cnt\n",
       "0             USA   13\n",
       "1          Canada    8\n",
       "2          France    5\n",
       "3          Brazil    5\n",
       "4         Germany    4\n",
       "5  United Kingdom    3"
      ]
     },
     "execution_count": 5,
     "metadata": {},
     "output_type": "execute_result"
    }
   ],
   "source": [
    "import pandas as pd\n",
    "\n",
    "sql = \"\"\"\n",
    "SELECT Country, COUNT(Country) AS cnt\n",
    "  FROM Customer\n",
    "  GROUP BY Country\n",
    "  HAVING cnt >= 3\n",
    "  ORDER BY COUNT(Country) DESC\n",
    "\"\"\"\n",
    "\n",
    "cursor = sql_conn.cursor()\n",
    "cursor.execute(sql)\n",
    "\n",
    "# print(cursor.description)\n",
    "\n",
    "cols = []\n",
    "for c in cursor.description:\n",
    "    cols.append(c[0])\n",
    "\n",
    "cursor.close()\n",
    "\n",
    "# print(cols)\n",
    "df = pd.DataFrame(cursor, columns=cols)\n",
    "df"
   ]
  },
  {
   "cell_type": "markdown",
   "metadata": {},
   "source": [
    "#### Pandas with SQLalchemy"
   ]
  },
  {
   "cell_type": "code",
   "execution_count": 6,
   "metadata": {},
   "outputs": [
    {
     "data": {
      "text/html": [
       "<div>\n",
       "<style scoped>\n",
       "    .dataframe tbody tr th:only-of-type {\n",
       "        vertical-align: middle;\n",
       "    }\n",
       "\n",
       "    .dataframe tbody tr th {\n",
       "        vertical-align: top;\n",
       "    }\n",
       "\n",
       "    .dataframe thead th {\n",
       "        text-align: right;\n",
       "    }\n",
       "</style>\n",
       "<table border=\"1\" class=\"dataframe\">\n",
       "  <thead>\n",
       "    <tr style=\"text-align: right;\">\n",
       "      <th></th>\n",
       "      <th>Country</th>\n",
       "      <th>cnt</th>\n",
       "    </tr>\n",
       "  </thead>\n",
       "  <tbody>\n",
       "    <tr>\n",
       "      <th>0</th>\n",
       "      <td>USA</td>\n",
       "      <td>13</td>\n",
       "    </tr>\n",
       "    <tr>\n",
       "      <th>1</th>\n",
       "      <td>Canada</td>\n",
       "      <td>8</td>\n",
       "    </tr>\n",
       "    <tr>\n",
       "      <th>2</th>\n",
       "      <td>Brazil</td>\n",
       "      <td>5</td>\n",
       "    </tr>\n",
       "    <tr>\n",
       "      <th>3</th>\n",
       "      <td>France</td>\n",
       "      <td>5</td>\n",
       "    </tr>\n",
       "    <tr>\n",
       "      <th>4</th>\n",
       "      <td>Germany</td>\n",
       "      <td>4</td>\n",
       "    </tr>\n",
       "    <tr>\n",
       "      <th>5</th>\n",
       "      <td>United Kingdom</td>\n",
       "      <td>3</td>\n",
       "    </tr>\n",
       "  </tbody>\n",
       "</table>\n",
       "</div>"
      ],
      "text/plain": [
       "          Country  cnt\n",
       "0             USA   13\n",
       "1          Canada    8\n",
       "2          Brazil    5\n",
       "3          France    5\n",
       "4         Germany    4\n",
       "5  United Kingdom    3"
      ]
     },
     "execution_count": 6,
     "metadata": {},
     "output_type": "execute_result"
    }
   ],
   "source": [
    "import pandas as pd\n",
    "import sqlalchemy\n",
    "\n",
    "# https://docs.sqlalchemy.org/en/13/dialects/mysql.html#module-sqlalchemy.dialects.mysql.pymysql\n",
    "# mysql+pymysql://<username>:<password>@<host>/<dbname>[?<options>]\n",
    "engine = sqlalchemy.create_engine(\"mysql+pymysql://%s:%s@%s:%s/%s\"\n",
    "                                  % (USER_SQL, PASS_SQL,\n",
    "                                     HOST_SQL, PORT_SQL,\n",
    "                                     \"Chinook\"))\n",
    "\n",
    "sql = \"\"\"\n",
    "SELECT Country, COUNT(Country) AS cnt\n",
    "  FROM Customer\n",
    "  GROUP BY Country\n",
    "  HAVING cnt >= 3\n",
    "  ORDER BY COUNT(Country) DESC\n",
    "\"\"\"\n",
    "\n",
    "df = pd.read_sql_query(sql, engine)\n",
    "df"
   ]
  },
  {
   "cell_type": "code",
   "execution_count": null,
   "metadata": {},
   "outputs": [],
   "source": []
  }
 ],
 "metadata": {
  "kernelspec": {
   "display_name": "Python 3",
   "language": "python",
   "name": "python3"
  },
  "language_info": {
   "codemirror_mode": {
    "name": "ipython",
    "version": 3
   },
   "file_extension": ".py",
   "mimetype": "text/x-python",
   "name": "python",
   "nbconvert_exporter": "python",
   "pygments_lexer": "ipython3",
   "version": "3.8.5"
  }
 },
 "nbformat": 4,
 "nbformat_minor": 4
}
