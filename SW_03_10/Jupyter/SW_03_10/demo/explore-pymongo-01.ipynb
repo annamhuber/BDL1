{
 "cells": [
  {
   "cell_type": "markdown",
   "metadata": {},
   "source": [
    "# MongoDB\n",
    "## pymongo"
   ]
  },
  {
   "cell_type": "markdown",
   "metadata": {},
   "source": [
    "### Packages "
   ]
  },
  {
   "cell_type": "code",
   "execution_count": 1,
   "metadata": {},
   "outputs": [
    {
     "name": "stdout",
     "output_type": "stream",
     "text": [
      "/home/grossnik/venv/bdl03-1-jpy-3.8\n",
      "pymongo             3.11.3 \n"
     ]
    }
   ],
   "source": [
    "! echo $VIRTUAL_ENV\n",
    "! pip3 list | grep \"pymongo\""
   ]
  },
  {
   "cell_type": "code",
   "execution_count": 2,
   "metadata": {},
   "outputs": [
    {
     "name": "stdout",
     "output_type": "stream",
     "text": [
      "/home/grossnik/venv/bdl03-1-jpy-3.8\n",
      "Requirement already up-to-date: pymongo in /home/grossnik/venv/bdl03-1-jpy-3.8/lib/python3.8/site-packages (3.11.3)\n",
      "Requirement already up-to-date: dnspython in /home/grossnik/venv/bdl03-1-jpy-3.8/lib/python3.8/site-packages (2.1.0)\n"
     ]
    }
   ],
   "source": [
    "%%bash\n",
    "echo $VIRTUAL_ENV\n",
    "pip3 install --upgrade --upgrade-strategy only-if-needed pymongo dnspython\n",
    "# pip3 list | wc -l"
   ]
  },
  {
   "cell_type": "markdown",
   "metadata": {},
   "source": [
    "### Global configuration"
   ]
  },
  {
   "cell_type": "code",
   "execution_count": 3,
   "metadata": {},
   "outputs": [],
   "source": [
    "HOST_mongo = 'localhost:27017'\n",
    "USER_mongo = \"\"\n",
    "PASS_mongo = \"\"\n",
    "if USER_mongo:\n",
    "    credentials=f\"{USER_mongo}:{PASS_mongo}@\"\n",
    "else:\n",
    "    credentials=\"\""
   ]
  },
  {
   "cell_type": "code",
   "execution_count": 4,
   "metadata": {},
   "outputs": [],
   "source": [
    "%config Completer.use_jedi = False"
   ]
  },
  {
   "cell_type": "markdown",
   "metadata": {},
   "source": [
    "## Code"
   ]
  },
  {
   "cell_type": "code",
   "execution_count": 5,
   "metadata": {},
   "outputs": [],
   "source": [
    "import pymongo\n",
    "import pprint"
   ]
  },
  {
   "cell_type": "markdown",
   "metadata": {},
   "source": [
    "Examples taken from:\\\n",
    "topics/mongodb/python/pymongo/examples/pymongo-tutorial/"
   ]
  },
  {
   "cell_type": "markdown",
   "metadata": {},
   "source": [
    "### DB Overview"
   ]
  },
  {
   "cell_type": "code",
   "execution_count": 6,
   "metadata": {},
   "outputs": [
    {
     "data": {
      "text/plain": [
       "['100YWeatherSmall',\n",
       " 'Northwind',\n",
       " 'admin',\n",
       " 'aggregations',\n",
       " 'citibike',\n",
       " 'config',\n",
       " 'coursera-agg',\n",
       " 'dbkoda-OrderExample',\n",
       " 'dbkoda-SampleCollections',\n",
       " 'imp_demo_icndb',\n",
       " 'imp_demo_openaq',\n",
       " 'imp_demo_voteinfo',\n",
       " 'local',\n",
       " 'mflix',\n",
       " 'mongodb-examples',\n",
       " 'nobel',\n",
       " 'results',\n",
       " 'ships',\n",
       " 'socratica',\n",
       " 'superdatascience',\n",
       " 'video']"
      ]
     },
     "execution_count": 6,
     "metadata": {},
     "output_type": "execute_result"
    }
   ],
   "source": [
    "client = pymongo.MongoClient(f\"mongodb://{HOST_mongo}\")\n",
    "client.list_database_names()"
   ]
  },
  {
   "cell_type": "code",
   "execution_count": 7,
   "metadata": {},
   "outputs": [
    {
     "data": {
      "text/plain": [
       "['watching_pings',\n",
       " 'theaters',\n",
       " 'movieDetails',\n",
       " 'reviews',\n",
       " 'system.views',\n",
       " 'movies',\n",
       " 'reviews_simple',\n",
       " 'movies_with_reviews']"
      ]
     },
     "execution_count": 7,
     "metadata": {},
     "output_type": "execute_result"
    }
   ],
   "source": [
    "db = client['mflix']\n",
    "db.list_collection_names()"
   ]
  },
  {
   "cell_type": "markdown",
   "metadata": {},
   "source": [
    "### Movies"
   ]
  },
  {
   "cell_type": "code",
   "execution_count": 8,
   "metadata": {},
   "outputs": [
    {
     "data": {
      "text/plain": [
       "963534"
      ]
     },
     "execution_count": 8,
     "metadata": {},
     "output_type": "execute_result"
    }
   ],
   "source": [
    "movies = client['mflix'].movies\n",
    "movies.count_documents({})"
   ]
  },
  {
   "cell_type": "markdown",
   "metadata": {},
   "source": [
    "#### find_one"
   ]
  },
  {
   "cell_type": "code",
   "execution_count": 9,
   "metadata": {},
   "outputs": [
    {
     "data": {
      "text/plain": [
       "{'_id': ObjectId('58c59c6a99d4ee0af9e0c32f'),\n",
       " 'title': 'Akrobatisches Potpourri',\n",
       " 'year': 1895,\n",
       " 'imdbId': 'tt0000011',\n",
       " 'genre': 'Documentary, Short',\n",
       " 'viewerRating': 5.5,\n",
       " 'viewerVotes': 111,\n",
       " 'runtime': 1,\n",
       " 'director': 'Max Skladanowsky',\n",
       " 'cast': ['Grunato'],\n",
       " 'plot': 'Eight circus performers known as the Grunato family perform their famous balancing act.'}"
      ]
     },
     "execution_count": 9,
     "metadata": {},
     "output_type": "execute_result"
    }
   ],
   "source": [
    "movies.find_one()"
   ]
  },
  {
   "cell_type": "code",
   "execution_count": 10,
   "metadata": {},
   "outputs": [
    {
     "data": {
      "text/plain": [
       "{'_id': ObjectId('58c59c7499d4ee0af9e23c38'),\n",
       " 'title': 'Baanoo',\n",
       " 'year': 1999,\n",
       " 'imdbId': 'tt0103746',\n",
       " 'genre': 'Drama',\n",
       " 'viewerRating': 6.8,\n",
       " 'viewerVotes': 301,\n",
       " 'runtime': 115,\n",
       " 'director': 'Dariush Mehrjui',\n",
       " 'cast': ['Bita Farahi',\n",
       "  'Fathali Oveisi',\n",
       "  'Sima Tirandaz',\n",
       "  'Ezzatolah Entezami'],\n",
       " 'plot': 'Maryam Banoo, a depressed wealthy woman, finds out that her husband is having an affair with another woman. Her husband leaves the house after Maryam Banoo understands the truth. Maryam ...'}"
      ]
     },
     "execution_count": 10,
     "metadata": {},
     "output_type": "execute_result"
    }
   ],
   "source": [
    "movies.find_one({\"year\": 1999})"
   ]
  },
  {
   "cell_type": "markdown",
   "metadata": {},
   "source": [
    "#### find"
   ]
  },
  {
   "cell_type": "code",
   "execution_count": 11,
   "metadata": {},
   "outputs": [
    {
     "data": {
      "text/plain": [
       "<pymongo.cursor.Cursor at 0x7fe4b53f94f0>"
      ]
     },
     "execution_count": 11,
     "metadata": {},
     "output_type": "execute_result"
    }
   ],
   "source": [
    "movies.find({\"year\": 1999})"
   ]
  },
  {
   "cell_type": "code",
   "execution_count": 12,
   "metadata": {},
   "outputs": [
    {
     "data": {
      "text/plain": [
       "<pymongo.cursor.Cursor at 0x7fe49ff12ac0>"
      ]
     },
     "execution_count": 12,
     "metadata": {},
     "output_type": "execute_result"
    }
   ],
   "source": [
    "movies.find({\"year\": 1999}).limit(2)"
   ]
  },
  {
   "cell_type": "markdown",
   "metadata": {},
   "source": [
    "#### loop, limit"
   ]
  },
  {
   "cell_type": "code",
   "execution_count": 13,
   "metadata": {},
   "outputs": [
    {
     "name": "stdout",
     "output_type": "stream",
     "text": [
      "{'_id': ObjectId('58c59c7499d4ee0af9e23c38'), 'title': 'Baanoo', 'year': 1999, 'imdbId': 'tt0103746', 'genre': 'Drama', 'viewerRating': 6.8, 'viewerVotes': 301, 'runtime': 115, 'director': 'Dariush Mehrjui', 'cast': ['Bita Farahi', 'Fathali Oveisi', 'Sima Tirandaz', 'Ezzatolah Entezami'], 'plot': 'Maryam Banoo, a depressed wealthy woman, finds out that her husband is having an affair with another woman. Her husband leaves the house after Maryam Banoo understands the truth. Maryam ...'}\n",
      "{'_id': ObjectId('58c59c7599d4ee0af9e258a7'), 'title': 'K�zimning qarasy', 'year': 1999, 'imdbId': 'tt0111834', 'genre': 'Comedy, Drama', 'viewerRating': 6, 'viewerVotes': 11, 'runtime': 87, 'director': 'Satybaldy Narymbetov', 'cast': ['Raikhan Aitkhozhanova', 'Bakhitzhan Alpeisov', 'Petya Khaitovich', 'Akan Satayev'], 'language': 'Russian, Kazakh'}\n"
     ]
    }
   ],
   "source": [
    "for d in db.movies.find({\"year\": 1999}).limit(2):\n",
    "  print(d)"
   ]
  },
  {
   "cell_type": "markdown",
   "metadata": {},
   "source": [
    "#### pprint"
   ]
  },
  {
   "cell_type": "code",
   "execution_count": 14,
   "metadata": {},
   "outputs": [
    {
     "name": "stdout",
     "output_type": "stream",
     "text": [
      "{'_id': ObjectId('58c59c7499d4ee0af9e23c38'),\n",
      " 'cast': ['Bita Farahi',\n",
      "          'Fathali Oveisi',\n",
      "          'Sima Tirandaz',\n",
      "          'Ezzatolah Entezami'],\n",
      " 'director': 'Dariush Mehrjui',\n",
      " 'genre': 'Drama',\n",
      " 'imdbId': 'tt0103746',\n",
      " 'plot': 'Maryam Banoo, a depressed wealthy woman, finds out that her husband '\n",
      "         'is having an affair with another woman. Her husband leaves the house '\n",
      "         'after Maryam Banoo understands the truth. Maryam ...',\n",
      " 'runtime': 115,\n",
      " 'title': 'Baanoo',\n",
      " 'viewerRating': 6.8,\n",
      " 'viewerVotes': 301,\n",
      " 'year': 1999}\n",
      "{'_id': ObjectId('58c59c7599d4ee0af9e258a7'),\n",
      " 'cast': ['Raikhan Aitkhozhanova',\n",
      "          'Bakhitzhan Alpeisov',\n",
      "          'Petya Khaitovich',\n",
      "          'Akan Satayev'],\n",
      " 'director': 'Satybaldy Narymbetov',\n",
      " 'genre': 'Comedy, Drama',\n",
      " 'imdbId': 'tt0111834',\n",
      " 'language': 'Russian, Kazakh',\n",
      " 'runtime': 87,\n",
      " 'title': 'K�zimning qarasy',\n",
      " 'viewerRating': 6,\n",
      " 'viewerVotes': 11,\n",
      " 'year': 1999}\n"
     ]
    }
   ],
   "source": [
    "for d in db.movies.find({\"year\": 1999}).limit(2):\n",
    "  pprint.pprint(d)"
   ]
  },
  {
   "cell_type": "markdown",
   "metadata": {},
   "source": [
    "#### sort"
   ]
  },
  {
   "cell_type": "code",
   "execution_count": 15,
   "metadata": {},
   "outputs": [
    {
     "name": "stdout",
     "output_type": "stream",
     "text": [
      "{'_id': ObjectId('58c59c6a99d4ee0af9e0c33b'),\n",
      " 'director': 'Birt Acres',\n",
      " 'genre': 'Documentary, Short',\n",
      " 'imdbId': 'tt0000030',\n",
      " 'plot': 'The sea is quite rough, and at Dover a series of heavy waves pounds '\n",
      "         'against a pier and along the adjacent shoreline. The scene then '\n",
      "         'shifts to a different view of flowing water, and shows a heavy '\n",
      "         'current from a point along a riverbank.',\n",
      " 'runtime': 1,\n",
      " 'title': 'Rough Sea at Dover',\n",
      " 'viewerRating': 5.3,\n",
      " 'viewerVotes': 432,\n",
      " 'year': 1896}\n",
      "{'_id': ObjectId('58c59c6a99d4ee0af9e0c340'),\n",
      " 'director': 'Georges M�li�s',\n",
      " 'genre': 'Short',\n",
      " 'imdbId': 'tt0000035',\n",
      " 'title': 'Watering the Flowers',\n",
      " 'viewerRating': 5.3,\n",
      " 'viewerVotes': 33,\n",
      " 'year': 1896}\n"
     ]
    }
   ],
   "source": [
    "for d in db.movies.find({\"viewerRating\" : {\"$gt\": 5.2} }\n",
    "                       ).sort(\"viewerRating\").limit(2):\n",
    "  pprint.pprint(d)"
   ]
  },
  {
   "cell_type": "code",
   "execution_count": 16,
   "metadata": {},
   "outputs": [
    {
     "name": "stdout",
     "output_type": "stream",
     "text": [
      "{'_id': ObjectId('58c59c7099d4ee0af9e19e4b'),\n",
      " 'cast': ['Heinz Reincke', 'Eva Lissa', 'Tilla Durieux', 'Franz Kutschera'],\n",
      " 'director': 'Gerhard Klingenberg',\n",
      " 'genre': '',\n",
      " 'imdbId': 'tt0057627',\n",
      " 'runtime': 95,\n",
      " 'title': 'Unterm Birnbaum',\n",
      " 'viewerRating': 10,\n",
      " 'viewerVotes': 14,\n",
      " 'year': 1963}\n",
      "{'_id': ObjectId('58c59c7099d4ee0af9e1a0c5'),\n",
      " 'cast': ['Ruth-Maria Kubitschek',\n",
      "          'Gerhard Riedmann',\n",
      "          'Doris Schade',\n",
      "          'Siegurd Fitzek'],\n",
      " 'director': 'Franz Josef Wild',\n",
      " 'genre': '',\n",
      " 'imdbId': 'tt0058338',\n",
      " 'runtime': 115,\n",
      " 'title': 'Mein oder Dein',\n",
      " 'viewerRating': 10,\n",
      " 'viewerVotes': 11,\n",
      " 'year': 1964}\n"
     ]
    }
   ],
   "source": [
    "for d in db.movies.find({\"viewerRating\" : {\"$gt\": 5.2} }\n",
    "                       ).sort(\"viewerRating\", -1).limit(2):\n",
    "  pprint.pprint(d)"
   ]
  },
  {
   "cell_type": "markdown",
   "metadata": {},
   "source": [
    "#### filtering using and"
   ]
  },
  {
   "cell_type": "code",
   "execution_count": 17,
   "metadata": {},
   "outputs": [
    {
     "name": "stdout",
     "output_type": "stream",
     "text": [
      "{'_id': ObjectId('58c59c7499d4ee0af9e23c38'),\n",
      " 'cast': ['Bita Farahi',\n",
      "          'Fathali Oveisi',\n",
      "          'Sima Tirandaz',\n",
      "          'Ezzatolah Entezami'],\n",
      " 'director': 'Dariush Mehrjui',\n",
      " 'genre': 'Drama',\n",
      " 'imdbId': 'tt0103746',\n",
      " 'plot': 'Maryam Banoo, a depressed wealthy woman, finds out that her husband '\n",
      "         'is having an affair with another woman. Her husband leaves the house '\n",
      "         'after Maryam Banoo understands the truth. Maryam ...',\n",
      " 'runtime': 115,\n",
      " 'title': 'Baanoo',\n",
      " 'viewerRating': 6.8,\n",
      " 'viewerVotes': 301,\n",
      " 'year': 1999}\n",
      "{'_id': ObjectId('58c59c7599d4ee0af9e258a7'),\n",
      " 'cast': ['Raikhan Aitkhozhanova',\n",
      "          'Bakhitzhan Alpeisov',\n",
      "          'Petya Khaitovich',\n",
      "          'Akan Satayev'],\n",
      " 'director': 'Satybaldy Narymbetov',\n",
      " 'genre': 'Comedy, Drama',\n",
      " 'imdbId': 'tt0111834',\n",
      " 'language': 'Russian, Kazakh',\n",
      " 'runtime': 87,\n",
      " 'title': 'K�zimning qarasy',\n",
      " 'viewerRating': 6,\n",
      " 'viewerVotes': 11,\n",
      " 'year': 1999}\n"
     ]
    }
   ],
   "source": [
    "for d in db.movies.find(\n",
    "    {\"year\": 1999, \"viewerRating\" : {\"$gt\": 5.2} }).limit(2):\n",
    "  pprint.pprint(d)"
   ]
  },
  {
   "cell_type": "code",
   "execution_count": null,
   "metadata": {},
   "outputs": [],
   "source": []
  }
 ],
 "metadata": {
  "kernelspec": {
   "display_name": "Python 3",
   "language": "python",
   "name": "python3"
  },
  "language_info": {
   "codemirror_mode": {
    "name": "ipython",
    "version": 3
   },
   "file_extension": ".py",
   "mimetype": "text/x-python",
   "name": "python",
   "nbconvert_exporter": "python",
   "pygments_lexer": "ipython3",
   "version": "3.8.5"
  }
 },
 "nbformat": 4,
 "nbformat_minor": 4
}
